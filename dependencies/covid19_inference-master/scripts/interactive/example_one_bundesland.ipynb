{
  "nbformat": 4,
  "nbformat_minor": 0,
  "metadata": {
    "kernelspec": {
      "display_name": "Python 3",
      "language": "python",
      "name": "python3"
    },
    "language_info": {
      "codemirror_mode": {
        "name": "ipython",
        "version": 3
      },
      "file_extension": ".py",
      "mimetype": "text/x-python",
      "name": "python",
      "nbconvert_exporter": "python",
      "pygments_lexer": "ipython3",
      "version": "3.7.7"
    },
    "colab": {
      "name": "example_one_bundesland.ipynb",
      "provenance": [],
      "include_colab_link": true
    }
  },
  "cells": [
    {
      "cell_type": "markdown",
      "metadata": {
        "id": "view-in-github",
        "colab_type": "text"
      },
      "source": [
        "<a href=\"https://colab.research.google.com/github/Patrick5455/Change-Point-Analysis-of-Covid19-Bayesian-Inference-SIR-SEIR-Modelling/blob/master/dependencies/covid19_inference-master/scripts/interactive/example_one_bundesland.ipynb\" target=\"_parent\"><img src=\"https://colab.research.google.com/assets/colab-badge.svg\" alt=\"Open In Colab\"/></a>"
      ]
    },
    {
      "cell_type": "markdown",
      "metadata": {
        "id": "xLUFbC3Z0uS8",
        "colab_type": "text"
      },
      "source": [
        "# Change Point Analysis to Quantify the Impact of the Ghanian Government Policy Interventions to Slow the Spread of COVID-19\n",
        "\n",
        "### The Analysis would be conducted using Bayesian Inference based on Markov chain Monte Carlo sampling to a class of compartmental models [susceptible-infected-recovered (SIR)]\n",
        "\n",
        "\n",
        "-  Patrick Ojunde (Team Ghana)\n",
        "\n",
        "\n",
        "\n",
        "---\n",
        "\n"
      ]
    },
    {
      "cell_type": "markdown",
      "metadata": {
        "id": "Bxsv5ujW7D6W",
        "colab_type": "text"
      },
      "source": [
        ">> For easier Navigation, open with Google-Colab Link above and use the Table of Contents in the left pane\n"
      ]
    },
    {
      "cell_type": "markdown",
      "metadata": {
        "id": "arryFJrJ1X4Y",
        "colab_type": "text"
      },
      "source": [
        "`Mount Google Drive to save files and visuals`"
      ]
    },
    {
      "cell_type": "code",
      "metadata": {
        "id": "otZOIEHCMPHY",
        "colab_type": "code",
        "colab": {
          "base_uri": "https://localhost:8080/",
          "height": 55
        },
        "outputId": "6d3f1db3-de36-4057-d851-2f6d5786e6d2"
      },
      "source": [
        " #To mount the Google Drive\n",
        "from google.colab import drive\n",
        "drive.mount('/content/gdrive')#To Save the trace results to a pickle file"
      ],
      "execution_count": 1,
      "outputs": [
        {
          "output_type": "stream",
          "text": [
            "Drive already mounted at /content/gdrive; to attempt to forcibly remount, call drive.mount(\"/content/gdrive\", force_remount=True).\n"
          ],
          "name": "stdout"
        }
      ]
    },
    {
      "cell_type": "markdown",
      "metadata": {
        "id": "13la2iM71gNa",
        "colab_type": "text"
      },
      "source": [
        "`install the library to be used for this analysis`\n",
        "\n",
        "check [here](https://science.sciencemag.org/content/sci/369/6500/eabb9789.full.pdf) for more info on the research work for this library"
      ]
    },
    {
      "cell_type": "code",
      "metadata": {
        "id": "eQw7UNXua_C0",
        "colab_type": "code",
        "colab": {
          "base_uri": "https://localhost:8080/",
          "height": 478
        },
        "outputId": "9a901cca-80c8-4d02-a29b-d639a0da1d97"
      },
      "source": [
        "!pip install git+https://github.com/Priesemann-Group/covid19_inference.git"
      ],
      "execution_count": 2,
      "outputs": [
        {
          "output_type": "stream",
          "text": [
            "Collecting git+https://github.com/Priesemann-Group/covid19_inference.git\n",
            "  Cloning https://github.com/Priesemann-Group/covid19_inference.git to /tmp/pip-req-build-g18jyrxp\n",
            "  Running command git clone -q https://github.com/Priesemann-Group/covid19_inference.git /tmp/pip-req-build-g18jyrxp\n",
            "Requirement already satisfied (use --upgrade to upgrade): covid19-inference==0.1.8a0 from git+https://github.com/Priesemann-Group/covid19_inference.git in /usr/local/lib/python3.6/dist-packages\n",
            "Requirement already satisfied: pymc3 in /usr/local/lib/python3.6/dist-packages (from covid19-inference==0.1.8a0) (3.7)\n",
            "Requirement already satisfied: matplotlib in /usr/local/lib/python3.6/dist-packages (from covid19-inference==0.1.8a0) (3.2.2)\n",
            "Requirement already satisfied: numpy in /usr/local/lib/python3.6/dist-packages (from covid19-inference==0.1.8a0) (1.18.5)\n",
            "Requirement already satisfied: pandas in /usr/local/lib/python3.6/dist-packages (from covid19-inference==0.1.8a0) (1.0.5)\n",
            "Requirement already satisfied: theano in /usr/local/lib/python3.6/dist-packages (from covid19-inference==0.1.8a0) (1.0.5)\n",
            "Requirement already satisfied: patsy>=0.4.0 in /usr/local/lib/python3.6/dist-packages (from pymc3->covid19-inference==0.1.8a0) (0.5.1)\n",
            "Requirement already satisfied: h5py>=2.7.0 in /usr/local/lib/python3.6/dist-packages (from pymc3->covid19-inference==0.1.8a0) (2.10.0)\n",
            "Requirement already satisfied: tqdm>=4.8.4 in /usr/local/lib/python3.6/dist-packages (from pymc3->covid19-inference==0.1.8a0) (4.41.1)\n",
            "Requirement already satisfied: scipy>=0.18.1 in /usr/local/lib/python3.6/dist-packages (from pymc3->covid19-inference==0.1.8a0) (1.4.1)\n",
            "Requirement already satisfied: kiwisolver>=1.0.1 in /usr/local/lib/python3.6/dist-packages (from matplotlib->covid19-inference==0.1.8a0) (1.2.0)\n",
            "Requirement already satisfied: python-dateutil>=2.1 in /usr/local/lib/python3.6/dist-packages (from matplotlib->covid19-inference==0.1.8a0) (2.8.1)\n",
            "Requirement already satisfied: pyparsing!=2.0.4,!=2.1.2,!=2.1.6,>=2.0.1 in /usr/local/lib/python3.6/dist-packages (from matplotlib->covid19-inference==0.1.8a0) (2.4.7)\n",
            "Requirement already satisfied: cycler>=0.10 in /usr/local/lib/python3.6/dist-packages (from matplotlib->covid19-inference==0.1.8a0) (0.10.0)\n",
            "Requirement already satisfied: pytz>=2017.2 in /usr/local/lib/python3.6/dist-packages (from pandas->covid19-inference==0.1.8a0) (2018.9)\n",
            "Requirement already satisfied: six>=1.9.0 in /usr/local/lib/python3.6/dist-packages (from theano->covid19-inference==0.1.8a0) (1.15.0)\n",
            "Building wheels for collected packages: covid19-inference\n",
            "  Building wheel for covid19-inference (setup.py) ... \u001b[?25l\u001b[?25hdone\n",
            "  Created wheel for covid19-inference: filename=covid19_inference-0.1.8a0-cp36-none-any.whl size=103637 sha256=cd486a0eca47b03dee3a4cc872e437980df55fd604b8f0e98674763d513f829f\n",
            "  Stored in directory: /tmp/pip-ephem-wheel-cache-a1ozzrib/wheels/da/f1/e7/da56ba4fe019b70927b4bb10088f02f672b31b69fd54a6e613\n",
            "Successfully built covid19-inference\n"
          ],
          "name": "stdout"
        }
      ]
    },
    {
      "cell_type": "markdown",
      "metadata": {
        "id": "aaw_BB3ea_DI",
        "colab_type": "text"
      },
      "source": [
        "\n",
        "\n",
        "1.   List item\n",
        "2.   List item\n",
        "\n",
        "\n",
        "\n",
        "# Bayesian Inference of Ghana Covid 19 Data\n",
        "Non-hierarchical model using jhu data.\n",
        "\n",
        "Runtime ~ 15 min\n",
        "\n",
        "The first thing we need to do is import some essential stuff. Theses have to be installed and are prerequisites.\n"
      ]
    },
    {
      "cell_type": "code",
      "metadata": {
        "id": "Cbbt4TKGa_DQ",
        "colab_type": "code",
        "colab": {}
      },
      "source": [
        "import datetime\n",
        "import time as time_module\n",
        "import sys\n",
        "import pandas as pd\n",
        "import numpy as np\n",
        "import matplotlib as mpl\n",
        "import matplotlib.pyplot as plt\n",
        "import scipy.stats\n",
        "import theano\n",
        "import theano.tensor as tt\n",
        "import pymc3 as pm\n",
        "import pickle"
      ],
      "execution_count": 3,
      "outputs": []
    },
    {
      "cell_type": "code",
      "metadata": {
        "id": "JIaH42DFa_Df",
        "colab_type": "code",
        "colab": {}
      },
      "source": [
        "# Now to the fun stuff, we import our module!\n",
        "try:\n",
        "    import covid19_inference as cov19\n",
        "except ModuleNotFoundError:\n",
        "    sys.path.append(\"../../\")\n",
        "    import covid19_inference as cov19"
      ],
      "execution_count": 4,
      "outputs": []
    },
    {
      "cell_type": "markdown",
      "metadata": {
        "id": "SF5bUGr0lRxh",
        "colab_type": "text"
      },
      "source": [
        "### Define Utility Functions\n",
        "\n",
        "> These functions would be called at various intervals to make the notebook neater and easy to naviagte![alt text](https://)"
      ]
    },
    {
      "cell_type": "markdown",
      "metadata": {
        "id": "wtSOax8HaL9U",
        "colab_type": "text"
      },
      "source": [
        "Save Model\n"
      ]
    },
    {
      "cell_type": "code",
      "metadata": {
        "id": "JQqTiNlSaK2t",
        "colab_type": "code",
        "colab": {}
      },
      "source": [
        "def save_load_model (action, model=None, model_name='new_model.pickle',\n",
        "                          path = '/content/gdrive/My Drive/10Academy/projects/Ghana_SER_Model/models_and_traces/'):\n",
        "\n",
        "  if action == \"wb\":\n",
        "    pickle_out = open(path+model_name,action)\n",
        "    pickle.dump(model, pickle_out)\n",
        "    pickle_out.close() \n",
        "\n",
        "  elif action==\"rb\":\n",
        "    pickle_in = open(path+model_name,action)\n",
        "    model=pickle.load(pickle_in)\n",
        "    \n",
        "    return model"
      ],
      "execution_count": 5,
      "outputs": []
    },
    {
      "cell_type": "markdown",
      "metadata": {
        "id": "RkA7efCclt5M",
        "colab_type": "text"
      },
      "source": [
        "####save model trace\n"
      ]
    },
    {
      "cell_type": "code",
      "metadata": {
        "id": "j8-vDijrlX3B",
        "colab_type": "code",
        "colab": {}
      },
      "source": [
        "def save_load_modelTrace (action, modelTrace=None, modelTrace_name='new_model_trace.pickle',\n",
        "                          path = '/content/gdrive/My Drive/10Academy/projects/Ghana_SER_Model/models_and_traces/'):\n",
        "\n",
        "  if action == \"wb\":\n",
        "    pickle_out = open(path+modelTrace_name,action)\n",
        "    pickle.dump(modelTrace, pickle_out)\n",
        "    pickle_out.close() \n",
        "\n",
        "  elif action==\"rb\":\n",
        "    pickle_in = open(path+modelTrace_name,action)\n",
        "    modelTrace=pickle.load(pickle_in)\n",
        "    \n",
        "    return modelTrace"
      ],
      "execution_count": 6,
      "outputs": []
    },
    {
      "cell_type": "markdown",
      "metadata": {
        "id": "e0LPTc8RlzGT",
        "colab_type": "text"
      },
      "source": [
        "#### Plot timeseries"
      ]
    },
    {
      "cell_type": "code",
      "metadata": {
        "id": "3Z-Qicw3lX0J",
        "colab_type": "code",
        "colab": {}
      },
      "source": [
        "def plot_timeseries(model, model_trace, start=None, end=None,\n",
        "                    file_name=\"new_timeseries.png\", offset=3000,\n",
        "                    path = '/content/gdrive/My Drive/10Academy/projects/Ghana_SER_Model/visuals/',\n",
        "                    add_more_later=False\n",
        "                    ):\n",
        "  \n",
        "  if start and end:\n",
        "    fig, axes = cov19.plot.timeseries_overview(model, model_trace,annotate_watermark=True,\n",
        "                                             \n",
        "                                             save_to=path+file_name, forecast_label='Ghana Forecast',\n",
        "\n",
        "                                             forecast_heading=\"Ghana Covid19 Forecast\",\n",
        "\n",
        "                                             add_more_later=add_more_later,\n",
        "                                             \n",
        "                                     offset=offset, start=datetime.datetime(start), end=datetime.datetime(end))\n",
        "    \n",
        "  else:\n",
        "      fig, axes = cov19.plot.timeseries_overview(model, model_trace,annotate_watermark=True,\n",
        "                                             \n",
        "                                             save_to=path+file_name, forecast_label='Ghana Forecast',\n",
        "\n",
        "                                             forecast_heading=\"Ghana Covid19 Forecast\",\n",
        "\n",
        "                                             add_more_later=add_more_later,\n",
        "                                             \n",
        "                                     offset=offset)\n",
        "  #plt.savefig(fname=path+file_name, format='png')\n",
        "\n",
        "  #return fig"
      ],
      "execution_count": 7,
      "outputs": []
    },
    {
      "cell_type": "markdown",
      "metadata": {
        "id": "kUJo5fcosmZu",
        "colab_type": "text"
      },
      "source": [
        "#### Plot simple timeseries"
      ]
    },
    {
      "cell_type": "code",
      "metadata": {
        "id": "jGKGLZPqsrq1",
        "colab_type": "code",
        "colab": {}
      },
      "source": [
        "def plot_simpleTimeSeries(data,type_of_plot = 'data', save_as ='new_simple_timeseries.png'):\n",
        "\n",
        "  path = '/content/gdrive/My Drive/10Academy/projects/Ghana_SER_Model/visuals/'\n",
        "\n",
        "  \"\"\"\n",
        "   low-level function to plot anything that has a date on the x-axis.\n",
        "\n",
        "        Parameters\n",
        "        ----------\n",
        "        x : array of datetime.datetime\n",
        "            times for the x axis\n",
        "\n",
        "        y : array, 1d or 2d\n",
        "            data to plot. if 2d, we plot the CI as fill_between (if CI enabled in rc\n",
        "            params)\n",
        "            if 2d, then first dim is realization and second dim is time matching `x`\n",
        "            if 1d then first tim is time matching `x`\n",
        "\n",
        "         what: str, optional\n",
        "            what type of data is provided in x. sets the style used for plotting:\n",
        "            * `data` for data points\n",
        "            * `fcast` for model forecast (prediction)\n",
        "            * `model` for model reproduction of data (past)\n",
        "\n",
        "    \"\"\"\n",
        "\n",
        "  date=data.index\n",
        "  figures=data\n",
        "  fig = cov19.plot._timeseries(x=date, y=figures, what=type_of_plot)\n",
        "  plt.savefig(fname=path+save_as, format='png')\n",
        "  return fig"
      ],
      "execution_count": 8,
      "outputs": []
    },
    {
      "cell_type": "markdown",
      "metadata": {
        "id": "GZIzpz0mocD9",
        "colab_type": "text"
      },
      "source": [
        "#### Plot Posterior Parameters"
      ]
    },
    {
      "cell_type": "code",
      "metadata": {
        "id": "WNASummDlXtr",
        "colab_type": "code",
        "colab": {}
      },
      "source": [
        "def plot_distributions(model_trace, model, color=None, \n",
        "                       save_as='new_distro.png', \n",
        "                       path = '/content/gdrive/My Drive/10Academy/projects/Ghana_SER_Model/visuals/'):\n",
        "  \n",
        "    fig, axes = plt.subplots(6, 3, figsize=(10, 8))\n",
        "    left_column = []\n",
        "    mid_column = []\n",
        "    right_column = []\n",
        "    #axes[0, 2].set_visible(False)\n",
        "    #axes[1, 2].set_visible(False)\n",
        "    #this_model.name\n",
        "\n",
        "    left_vars = [\"weekend_factor\", \"mu\", \"lambda_0\", \"lambda_1\", \"lambda_2\", \"lambda_3\"]\n",
        "\n",
        "    mid_vars = [\"offset_modulation\",\"sigma_obs\",\"I_begin\",\"transient_day_1\",\"transient_day_2\",\"transient_day_3\"]\n",
        "\n",
        "    right_vars =  [\"delay\", \"transient_len_1\", \"transient_len_2\", \"transient_len_3\"]\n",
        "\n",
        "\n",
        "\n",
        "    # I have to comment out the codes because I could not plot distributions for a model that I specified its name...\n",
        "\n",
        "    # the covid19_inference/plot.py needs to be refactored to accomidate this\n",
        "\n",
        "    # I opened an issue for this on github\n",
        "\n",
        "    # Error log below\n",
        "\n",
        "    \"\"\"\n",
        "\n",
        "      KeyError                                  Traceback (most recent call last)\n",
        "\n",
        "      <ipython-input-309-983232f0c631> in <module>()\n",
        "      ----> 1 plot_distributions(model=this_model,model_trace=model1, color='b')\n",
        "\n",
        "      2 frames\n",
        "\n",
        "      <ipython-input-308-056ce75e6fe4> in plot_distributions(model_trace, model, color)\n",
        "          33 \n",
        "          34     for idx, var in enumerate(left_column):\n",
        "      ---> 35         cov19.plot._distribution(model, model_trace, var, ax=axes[idx, 0], color=color)\n",
        "          36 \n",
        "          37     for idx, var in enumerate(mid_column):\n",
        "\n",
        "      /usr/local/lib/python3.6/dist-packages/covid19_inference/plot.py in _distribution(model, trace, key, ax, color, draw_prior)\n",
        "          767     if \"lambda\" in key or \"mu\" == key:\n",
        "          768         ax.set_xlim(0, 0.5)\n",
        "      --> 769         ax.axvline(np.median(trace[\"mu\"]), ls=\":\", color=\"black\")\n",
        "          770     elif \"I_begin\" == key:\n",
        "          771         ax.set_xlim(0)\n",
        "\n",
        "      /usr/local/lib/python3.6/dist-packages/pymc3/backends/base.py in __getitem__(self, idx)\n",
        "          317         if var in self.stat_names:\n",
        "          318             return self.get_sampler_stats(var, burn=burn, thin=thin)\n",
        "      --> 319         raise KeyError(\"Unknown variable %s\" % var)\n",
        "          320 \n",
        "          321     _attrs = set(['_straces', 'varnames', 'chains', 'stat_names',\n",
        "\n",
        "      KeyError: 'Unknown variable mu'\n",
        "\n",
        "\n",
        "      \"\"\"\n",
        "\n",
        "\n",
        "          # for var in left_vars:\n",
        "          #   left_column.append(model.name+f\"_{var}\")\n",
        "          # print(left_column)\n",
        "\n",
        "          # for var in mid_vars:\n",
        "          #   mid_column.append(model.name+f\"_{var}\")\n",
        "\n",
        "          # print(mid_column)\n",
        "\n",
        "          # for var in right_vars:\n",
        "          #   right_column.append(model.name+f\"_{var}\")\n",
        "            \n",
        "          # print(right_column)\n",
        "\n",
        "    \n",
        "\n",
        "\n",
        "    for idx, var in enumerate(left_vars):\n",
        "      cov19.plot._distribution(model, model_trace, var, ax=axes[idx, 0], color=color)\n",
        "\n",
        "    for idx, var in enumerate(mid_vars):\n",
        "        cov19.plot._distribution(model, model_trace, var, ax=axes[idx, 1], color=color)\n",
        "\n",
        "    for idx, var in enumerate(right_vars):\n",
        "        cov19.plot._distribution(model, model_trace, var, ax=axes[idx+2, 2], color=color)\n",
        "\n",
        "    fig.tight_layout()\n",
        "    plt.savefig(fname=path+save_as, format='png')\n",
        "    return fig"
      ],
      "execution_count": 9,
      "outputs": []
    },
    {
      "cell_type": "markdown",
      "metadata": {
        "id": "Mqmjolr8xF1U",
        "colab_type": "text"
      },
      "source": [
        "#### Create Model"
      ]
    },
    {
      "cell_type": "code",
      "metadata": {
        "id": "I21j9Pq5lXOx",
        "colab_type": "code",
        "colab": {}
      },
      "source": [
        " def create_model(model_params, change_points, data_end=None, sim_begin=None, sim_end=None, pr_delay=3):\n",
        "   with cov19.model.Cov19Model(**model_params) as this_model:\n",
        "\n",
        "      \"\"\"\n",
        "      params_model is used to initlaise an object instance of Cov19Model\n",
        "\n",
        "          change_points is a list of dates used to specify the change points for our model\n",
        "\n",
        "          model_type could be SIR or SIER\n",
        "\n",
        "          pr_delay = Median of the prior for the delay in case reporting, we assume 3 days\n",
        "      \"\"\"\n",
        "\n",
        "\n",
        "\n",
        "    #specify extra attriubutes\n",
        "      if data_end:\n",
        "        data_end=data_end\n",
        "      if sim_begin:\n",
        "        sim_begin=sim_begin\n",
        "      if sim_end:\n",
        "        sim_end=sim_end      \n",
        "\n",
        "     \n",
        "      # Create the an array of the time dependent infection rate lambda\n",
        "      lambda_t_log = cov19.model.lambda_t_with_sigmoids(\n",
        "          pr_median_lambda_0=0.4,\n",
        "          pr_sigma_lambda_0=0.5,\n",
        "          change_points_list=change_points,  # The change point priors we constructed earlier\n",
        "          name_lambda_t=\"lambda_t\",  # Name for the variable in the trace (see later)\n",
        "      )\n",
        "\n",
        "      # set prior distribution for the recovery rate\n",
        "      mu = pm.Lognormal(name=\"mu\", mu=np.log(1 / 8), sigma=0.2)\n",
        "\n",
        "      # This builds a decorrelated prior for I_begin for faster inference.\n",
        "      # It is not necessary to use it, one can simply remove it and use the default argument\n",
        "      # for pr_I_begin in cov19.SIR\n",
        "      prior_I = cov19.model.uncorrelated_prior_I(\n",
        "          lambda_t_log=lambda_t_log,\n",
        "          mu=mu,\n",
        "          pr_median_delay=pr_delay,\n",
        "          name_I_begin=\"I_begin\",\n",
        "          name_I_begin_ratio_log=\"I_begin_ratio_log\",\n",
        "          pr_sigma_I_begin=2,\n",
        "          n_data_points_used=5,\n",
        "      )\n",
        "\n",
        "      # Use lambda_t_log and mu to run the SIR model\n",
        "      new_cases = cov19.model.SIR(\n",
        "          lambda_t_log=lambda_t_log,\n",
        "          mu=mu,\n",
        "          name_new_I_t=\"new_I_t\",\n",
        "          name_I_t=\"I_t\",\n",
        "          name_I_begin=\"I_begin\",\n",
        "          pr_I_begin=prior_I,\n",
        "      )\n",
        "\n",
        "      # Delay the cases by a lognormal reporting delay\n",
        "      new_cases = cov19.model.delay_cases(\n",
        "          cases=new_cases,\n",
        "          name_cases=\"delayed_cases\",\n",
        "          name_delay=\"delay\",\n",
        "          name_width=\"delay-width\",\n",
        "          pr_mean_of_median=pr_delay,\n",
        "          pr_sigma_of_median=0.2,\n",
        "          pr_median_of_width=0.3,\n",
        "      )\n",
        "\n",
        "      # Modulate the inferred cases by a abs(sin(x)) function, to account for weekend effects\n",
        "      # Also adds the \"new_cases\" variable to the trace that has all model features.\n",
        "      new_cases = cov19.model.week_modulation(\n",
        "          cases=new_cases,\n",
        "          name_cases=\"new_cases\",\n",
        "          name_weekend_factor=\"weekend_factor\",\n",
        "          name_offset_modulation=\"offset_modulation\",\n",
        "          week_modulation_type=\"abs_sine\",\n",
        "          pr_mean_weekend_factor=0.3,\n",
        "          pr_sigma_weekend_factor=0.5,\n",
        "          weekend_days=(6, 7),\n",
        "      )\n",
        "\n",
        "      # Define the likelihood, uses the new_cases_obs set as model parameter\n",
        "      cov19.model.student_t_likelihood(new_cases)\n",
        "      return this_model"
      ],
      "execution_count": 10,
      "outputs": []
    },
    {
      "cell_type": "markdown",
      "metadata": {
        "id": "5V4Oi8moa_Dt",
        "colab_type": "text"
      },
      "source": [
        "\n",
        "## Data retrieval \n",
        "\n",
        "> Task a -c\n",
        "\n",
        "- Download the COVID19 case data for your assigned country\n",
        "\n",
        "- Pre-process the downloaded data such that the starting date of the data is when the number of covid19 cases in your country reaches 100 and dominated by a community transmission.\n",
        "\n",
        "- It is unlikely but, if there are dates that have NaN values, perform linear regression to fill these missing values. Make sure the final data has a continuous date - ensure no date is missing. Zero number of cases for a given date is ok.\n",
        "\n"
      ]
    },
    {
      "cell_type": "markdown",
      "metadata": {
        "id": "3sHfgXxOLqFr",
        "colab_type": "text"
      },
      "source": [
        "> Use John Hopkins Database"
      ]
    },
    {
      "cell_type": "code",
      "metadata": {
        "id": "wMUxa0F4bXY0",
        "colab_type": "code",
        "colab": {
          "base_uri": "https://localhost:8080/",
          "height": 35
        },
        "outputId": "0f855b69-b08f-48cb-dc6a-0dce1e779ae8"
      },
      "source": [
        "jhu = cov19.data_retrieval.JHU()  # It is important to download the dataset!\n",
        "jhu.download_all_available_data()\n",
        "# One could also parse True to the constructor of the class to force an auto download"
      ],
      "execution_count": 11,
      "outputs": [
        {
          "output_type": "stream",
          "text": [
            "INFO     [covid19_inference.data_retrieval._JHU] Successfully loaded data from local\n"
          ],
          "name": "stderr"
        }
      ]
    },
    {
      "cell_type": "markdown",
      "metadata": {
        "id": "tMHDX_wy3eYP",
        "colab_type": "text"
      },
      "source": [
        "### Get total confirmed case for Ghana and its new cases\n",
        "> Ghana recorded its first covid case on 14th of March\n"
      ]
    },
    {
      "cell_type": "code",
      "metadata": {
        "id": "XCUYG9lYSd-k",
        "colab_type": "code",
        "colab": {}
      },
      "source": [
        "bd = datetime.datetime(2020, 3, 14)  # first covid case\n",
        "ed = datetime.datetime.now() # data ends today"
      ],
      "execution_count": 12,
      "outputs": []
    },
    {
      "cell_type": "code",
      "metadata": {
        "id": "dRdzTrGllXUq",
        "colab_type": "code",
        "colab": {}
      },
      "source": [
        "total_cases_obs = jhu.get_total(\n",
        "    value=\"confirmed\", country=\"Ghana\", data_begin=bd, data_end=ed\n",
        ")\n",
        "new_cases_obs = jhu.get_new(\n",
        "    value=\"confirmed\", country=\"Ghana\", data_begin=bd, data_end=ed\n",
        ")"
      ],
      "execution_count": 13,
      "outputs": []
    },
    {
      "cell_type": "code",
      "metadata": {
        "id": "qtCI7dp7lkA9",
        "colab_type": "code",
        "colab": {
          "base_uri": "https://localhost:8080/",
          "height": 256
        },
        "outputId": "c7b50bb3-1286-49ad-f582-cca4fa6bda8c"
      },
      "source": [
        "total_cases_obs"
      ],
      "execution_count": 14,
      "outputs": [
        {
          "output_type": "execute_result",
          "data": {
            "text/plain": [
              "date\n",
              "2020-03-14        3\n",
              "2020-03-15        6\n",
              "2020-03-16        6\n",
              "2020-03-17        7\n",
              "2020-03-18        7\n",
              "              ...  \n",
              "2020-08-05    39075\n",
              "2020-08-06    39642\n",
              "2020-08-07    40097\n",
              "2020-08-08    40533\n",
              "2020-08-09    41003\n",
              "Name: confirmed, Length: 149, dtype: int64"
            ]
          },
          "metadata": {
            "tags": []
          },
          "execution_count": 14
        }
      ]
    },
    {
      "cell_type": "code",
      "metadata": {
        "id": "DqTRzEXKSYQI",
        "colab_type": "code",
        "colab": {
          "base_uri": "https://localhost:8080/",
          "height": 434
        },
        "outputId": "3329d3e2-93fb-454e-db23-af10c3aca75f"
      },
      "source": [
        "total_cases_obs.plot(figsize=(8,6))\n",
        "plt.title('Total (Cummulative) Cases Observed')\n",
        "plt.savefig(fname='/content/gdrive/My Drive/10Academy/projects/Ghana_SER_Model/visuals/totalCases_cumm.png', format='png')"
      ],
      "execution_count": 15,
      "outputs": [
        {
          "output_type": "stream",
          "text": [
            "INFO     [numexpr.utils] NumExpr defaulting to 2 threads.\n"
          ],
          "name": "stderr"
        },
        {
          "output_type": "display_data",
          "data": {
            "image/png": "[encoded data removed]",
            "text/plain": [
              "<Figure size 576x432 with 1 Axes>"
            ]
          },
          "metadata": {
            "tags": [],
            "needs_background": "light"
          }
        }
      ]
    },
    {
      "cell_type": "code",
      "metadata": {
        "id": "pmKulQW9lnLZ",
        "colab_type": "code",
        "colab": {
          "base_uri": "https://localhost:8080/",
          "height": 256
        },
        "outputId": "43353a3b-bc8c-4108-e4c0-b12f06875af1"
      },
      "source": [
        "new_cases_obs"
      ],
      "execution_count": 16,
      "outputs": [
        {
          "output_type": "execute_result",
          "data": {
            "text/plain": [
              "date\n",
              "2020-03-14       3\n",
              "2020-03-15       3\n",
              "2020-03-16       0\n",
              "2020-03-17       1\n",
              "2020-03-18       0\n",
              "              ... \n",
              "2020-08-05    1263\n",
              "2020-08-06     567\n",
              "2020-08-07     455\n",
              "2020-08-08     436\n",
              "2020-08-09     470\n",
              "Name: confirmed, Length: 149, dtype: int64"
            ]
          },
          "metadata": {
            "tags": []
          },
          "execution_count": 16
        }
      ]
    },
    {
      "cell_type": "code",
      "metadata": {
        "id": "8ShOq-wvTKT2",
        "colab_type": "code",
        "colab": {
          "base_uri": "https://localhost:8080/",
          "height": 416
        },
        "outputId": "d6792193-4198-4582-9a41-17e17abeb479"
      },
      "source": [
        "new_cases_obs.plot(figsize=(8,6))\n",
        "plt.title('New Cases (Daily) Observed')\n",
        "plt.savefig(fname='//content/gdrive/My Drive/10Academy/projects/Ghana_SER_Model/visuals/newCases_daily.png', format='png')"
      ],
      "execution_count": 17,
      "outputs": [
        {
          "output_type": "display_data",
          "data": {
            "image/png": "[encoded data removed]",
            "text/plain": [
              "<Figure size 576x432 with 1 Axes>"
            ]
          },
          "metadata": {
            "tags": [],
            "needs_background": "light"
          }
        }
      ]
    },
    {
      "cell_type": "markdown",
      "metadata": {
        "id": "WDBZRLcUPF-g",
        "colab_type": "text"
      },
      "source": [
        "# Preprocessing and Modelling \n",
        "> Task d - j\n",
        "- Split the data into one part used for inference (training set), and an other used for to validate a forecast (validation set):\n",
        "- - Training set includes all dates from the time the community transmission reaches 100 to July 25 2020.\n",
        "- - Validation set includes dates from 25 July 2020 to one final date in the covid19 cases data.  \n",
        "- Plot the training data together with the model that is sampled from the posterior of the SIR model. The posterior of the SIR model means distributions on the Lambda, Mu, and other parameters. A single model curve means a single sample from the posterior distribution.\n",
        "- Use the validation data set to evaluate the forecasting power of the model you generated using the training set. If you are happy with your model, you can run it to make predictions until the 10th of August.\n",
        "- Find the dates where your country introduced the following policies. You can find the policies different countries introduced in the Oxford COVID tracker & IMF policy tracker. \n",
        "- - Banning major gatherings \n",
        "- - School closures\n",
        "- - Required social distancing\n",
        "- - Mask wearing mandatory\n",
        "- - Relaxing the previous rules\n",
        "- -Find those policies that are announced after the number of cases reach 100. - - Make sure you have at least one policy that falls in your data date range.   \n",
        "- - Introduce the dates of the policies you found in step (g) as change points in your model with prior centered at the times the country introduced these policies. \n",
        " __In the example paper, Germany had three specific points which were mild social distancing, strong social distancing and contact ban on 2020-3-9, 2020-3-16, and 2020-3-23.__\n",
        "\n",
        "-  You are expected to get the following results after performing the parameter estimation and model comparison steps\n",
        "- - Posterior distribution of SEIR model parameters \n",
        "- - The number of change points required in the model to best fit the data\n",
        "\n"
      ]
    },
    {
      "cell_type": "code",
      "metadata": {
        "id": "MYzMzcr9mBEI",
        "colab_type": "code",
        "colab": {}
      },
      "source": [
        "train_set = new_cases_obs[new_cases_obs.index <= '2020-07-25']\n",
        "val_set = total_cases_obs[total_cases_obs.index >= '2020-07-25']"
      ],
      "execution_count": 18,
      "outputs": []
    },
    {
      "cell_type": "code",
      "metadata": {
        "id": "pgkprrj6b3oa",
        "colab_type": "code",
        "colab": {
          "base_uri": "https://localhost:8080/",
          "height": 274
        },
        "outputId": "fb94f212-2c9f-4f59-b482-c25eba95bcf7"
      },
      "source": [
        "print(\"Date Has empty row: \",f'{train_set.index.isnull().any()}')\n",
        "train_set"
      ],
      "execution_count": 19,
      "outputs": [
        {
          "output_type": "stream",
          "text": [
            "Date Has empty row:  False\n"
          ],
          "name": "stdout"
        },
        {
          "output_type": "execute_result",
          "data": {
            "text/plain": [
              "date\n",
              "2020-03-14       3\n",
              "2020-03-15       3\n",
              "2020-03-16       0\n",
              "2020-03-17       1\n",
              "2020-03-18       0\n",
              "              ... \n",
              "2020-07-21     559\n",
              "2020-07-22     683\n",
              "2020-07-23       0\n",
              "2020-07-24    1385\n",
              "2020-07-25     794\n",
              "Name: confirmed, Length: 134, dtype: int64"
            ]
          },
          "metadata": {
            "tags": []
          },
          "execution_count": 19
        }
      ]
    },
    {
      "cell_type": "code",
      "metadata": {
        "id": "RC8SBkvgTQhm",
        "colab_type": "code",
        "colab": {
          "base_uri": "https://localhost:8080/",
          "height": 416
        },
        "outputId": "5723fef3-40fa-4559-9b56-96d2a7ae7ca6"
      },
      "source": [
        "train_set.plot(figsize=(8,6))\n",
        "plt.title('Train Data')\n",
        "plt.savefig(fname='/content/gdrive/My Drive/10Academy/projects/Ghana_SER_Model/visuals/train_data_daily.png', format='png')"
      ],
      "execution_count": 20,
      "outputs": [
        {
          "output_type": "display_data",
          "data": {
            "image/png": "[encoded data removed]",
            "text/plain": [
              "<Figure size 576x432 with 1 Axes>"
            ]
          },
          "metadata": {
            "tags": [],
            "needs_background": "light"
          }
        }
      ]
    },
    {
      "cell_type": "code",
      "metadata": {
        "id": "_GYpHoujNAyb",
        "colab_type": "code",
        "colab": {
          "base_uri": "https://localhost:8080/",
          "height": 366
        },
        "outputId": "2c49dab7-444d-4da3-fc2b-5b78bb05d4ce"
      },
      "source": [
        "print(\"Date Has empty row: \",f'{val_set.index.isnull().any()}')\n",
        "val_set"
      ],
      "execution_count": 21,
      "outputs": [
        {
          "output_type": "stream",
          "text": [
            "Date Has empty row:  False\n"
          ],
          "name": "stdout"
        },
        {
          "output_type": "execute_result",
          "data": {
            "text/plain": [
              "date\n",
              "2020-07-25    31851\n",
              "2020-07-26    32969\n",
              "2020-07-27    33624\n",
              "2020-07-28    34406\n",
              "2020-07-29    35142\n",
              "2020-07-30    35142\n",
              "2020-07-31    35501\n",
              "2020-08-01    37014\n",
              "2020-08-02    37014\n",
              "2020-08-03    37812\n",
              "2020-08-04    37812\n",
              "2020-08-05    39075\n",
              "2020-08-06    39642\n",
              "2020-08-07    40097\n",
              "2020-08-08    40533\n",
              "2020-08-09    41003\n",
              "Name: confirmed, dtype: int64"
            ]
          },
          "metadata": {
            "tags": []
          },
          "execution_count": 21
        }
      ]
    },
    {
      "cell_type": "code",
      "metadata": {
        "id": "NTe_pHT7T1dW",
        "colab_type": "code",
        "colab": {
          "base_uri": "https://localhost:8080/",
          "height": 427
        },
        "outputId": "0a2de94a-9fa5-4e23-a031-c0874a5e1f54"
      },
      "source": [
        "val_set.plot(figsize=(8,6))\n",
        "plt.title('Validation Data')\n",
        "plt.savefig(fname='/content/gdrive/My Drive/10Academy/projects/Ghana_SER_Model/visuals/val_data_cumm.png', format='png')"
      ],
      "execution_count": 22,
      "outputs": [
        {
          "output_type": "display_data",
          "data": {
            "image/png": "[encoded data removed]",
            "text/plain": [
              "<Figure size 576x432 with 1 Axes>"
            ]
          },
          "metadata": {
            "tags": [],
            "needs_background": "light"
          }
        }
      ]
    },
    {
      "cell_type": "markdown",
      "metadata": {
        "id": "TCyi_OI7TNCK",
        "colab_type": "text"
      },
      "source": [
        "## Model training and Plotting \n",
        "\n",
        "> __before identifying changepoints from the model outputs__\n",
        "\n",
        "#### Prior parameters\n",
        "\n",
        "- pr_delay = 3\n",
        "\n",
        "- population = 31072940\n",
        "\n",
        "<!-- > I will compare my model output with validation set to see if there was significant change in the number of cases when the partial lockdown was introduced  -->\n",
        "<!-- \n",
        "`I used these dates as prior becuase I believe there should be significant changepoints arounf these policy dates. But I will test my priors with the posteriors of my model. Note these dates are two days ahead the original dates to accomodate for the delay in effects of changepoints`  -->\n",
        "\n",
        "<!-- > 1. 2020, 3, 30 - partial lockdown\n",
        "2. 2020, 06,  15- ban on major gatherings\n",
        "3. 2020, 07, 26 - restriction on travel -->"
      ]
    },
    {
      "cell_type": "markdown",
      "metadata": {
        "id": "ghNM2b-gQ-Df",
        "colab_type": "text"
      },
      "source": [
        "1. diff_data_sim - simulation of data should start ten days earlier before the start date of data\n",
        "\n",
        "2. num_days_forcast - number of days to forecast after the end date of data"
      ]
    },
    {
      "cell_type": "code",
      "metadata": {
        "id": "fTd0eueWa_Ea",
        "colab_type": "code",
        "colab": {}
      },
      "source": [
        "diff_data_sim = 10  # should be significantly larger than the expected delay, in order to always fit the same number of data points.\n",
        "num_days_forecast = 3 #days"
      ],
      "execution_count": 23,
      "outputs": []
    },
    {
      "cell_type": "markdown",
      "metadata": {
        "id": "WhlZQO7xfNgz",
        "colab_type": "text"
      },
      "source": [
        "### Model 1 \n",
        "\n",
        "> __1 Changepoint__\n",
        "\n",
        "\n",
        "- Changepoints \n",
        "\n",
        " `I will start with  just one changepoint here -date when government initiated a partial lockdown policy` \n",
        "\n",
        " `Subsequent models would be built on more than one changepoint`  \n",
        "\n",
        "\n"
      ]
    },
    {
      "cell_type": "markdown",
      "metadata": {
        "id": "QBTq5wlvwVvx",
        "colab_type": "text"
      },
      "source": [
        "March 30th\n",
        "\n",
        "- March 30th : Partial Lockdown\n",
        "\n",
        "> I used this date as prior becuase I believe there should be significant changepoint arounf this policy date. But I will test my prior with the posteriors of my model.\n"
      ]
    },
    {
      "cell_type": "code",
      "metadata": {
        "id": "3gyA1t4Ja_Ek",
        "colab_type": "code",
        "colab": {}
      },
      "source": [
        "prior_date_mild_dist_begin = datetime.datetime(2020, 3, 30)\n",
        "#prior_date_strong_dist_begin = datetime.datetime(2020, 6, 15)\n",
        "#prior_date_contact_ban_begin = datetime.datetime(2020, 7, 26)"
      ],
      "execution_count": 24,
      "outputs": []
    },
    {
      "cell_type": "code",
      "metadata": {
        "id": "8rsyB8TGa_Eu",
        "colab_type": "code",
        "colab": {}
      },
      "source": [
        "model1_change_points = [\n",
        "    dict(\n",
        "        pr_mean_date_transient=prior_date_mild_dist_begin,\n",
        "        pr_sigma_date_transient=3,\n",
        "        pr_median_lambda=0.2,\n",
        "        pr_sigma_lambda=1\n",
        "    )\n",
        "    # ),\n",
        "    # dict(\n",
        "    #     pr_mean_date_transient=prior_date_strong_dist_begin,\n",
        "    #     pr_sigma_date_transient=1.5,\n",
        "    #     pr_median_lambda=1 / 8,\n",
        "    #     pr_sigma_lambda=1,\n",
        "    # ),\n",
        "    # dict(\n",
        "    #     pr_mean_date_transient=prior_date_contact_ban_begin,\n",
        "    #     pr_sigma_date_transient=1.5,\n",
        "    #     pr_median_lambda=1 / 8 / 2,\n",
        "    #     pr_sigma_lambda=1,\n",
        "    # ),\n",
        "]"
      ],
      "execution_count": 25,
      "outputs": []
    },
    {
      "cell_type": "markdown",
      "metadata": {
        "id": "kdW1vk6Fa_E4",
        "colab_type": "text"
      },
      "source": [
        "\n",
        "\n",
        "Next, we create the model! There are default values for most of the function arguments,\n",
        "but we will try to explicitly set all kwargs for the sake of this example.\n",
        "\n",
        "`This would be used for all models`"
      ]
    },
    {
      "cell_type": "code",
      "metadata": {
        "id": "-zQajue6a_E6",
        "colab_type": "code",
        "colab": {}
      },
      "source": [
        "params_model = dict(\n",
        "    new_cases_obs=new_cases_obs,\n",
        "    data_begin=bd,\n",
        "    fcast_len=num_days_forecast,\n",
        "    diff_data_sim=diff_data_sim,\n",
        "    N_population=31072940,\n",
        "    #name='Model1_SER',\n",
        ")"
      ],
      "execution_count": 26,
      "outputs": []
    },
    {
      "cell_type": "markdown",
      "metadata": {
        "id": "Ge4wQYlKa_FF",
        "colab_type": "text"
      },
      "source": [
        "\n",
        "\n",
        "The model is specified in a context. Each function in this context\n",
        "has access to the model parameters set.\n"
      ]
    },
    {
      "cell_type": "code",
      "metadata": {
        "id": "x7pkSIpra_FH",
        "colab_type": "code",
        "colab": {
          "base_uri": "https://localhost:8080/",
          "height": 182
        },
        "outputId": "a06204f7-f9db-4483-d0ff-17d930ac3cdc"
      },
      "source": [
        "model1 = create_model(params_model, #sim_end=datetime.datetime(2020,8,4), sim_begin=datetime.datetime(2020,3,4), \n",
        "             change_points=model1_change_points)"
      ],
      "execution_count": 27,
      "outputs": [
        {
          "output_type": "stream",
          "text": [
            "INFO     [covid19_inference.model.spreading_rate] Lambda_t with sigmoids\n",
            "INFO     [covid19_inference.model.model] pr_median_transient_len was set to default value 4\n",
            "INFO     [covid19_inference.model.model] pr_sigma_transient_len was set to default value 0.5\n",
            "INFO     [covid19_inference.model.model] relative_to_previous was set to default value False\n",
            "INFO     [covid19_inference.model.model] pr_factor_to_previous was set to default value 1\n",
            "INFO     [covid19_inference.model.compartmental_models] Uncorrelated prior_I\n",
            "INFO     [covid19_inference.model.compartmental_models] SIR\n",
            "INFO     [covid19_inference.model.delay] Delaying cases\n",
            "INFO     [covid19_inference.model.week_modulation] Week modulation\n"
          ],
          "name": "stderr"
        }
      ]
    },
    {
      "cell_type": "markdown",
      "metadata": {
        "id": "uk4YpG5VbIS4",
        "colab_type": "text"
      },
      "source": [
        "save model1\n"
      ]
    },
    {
      "cell_type": "code",
      "metadata": {
        "id": "wQIdaabsbK81",
        "colab_type": "code",
        "colab": {}
      },
      "source": [
        "#save model\n",
        "save_load_model(\"wb\", model1, \"model1.pickle\")\n",
        "#load model\n",
        "model1 = save_load_model(\"rb\", model_name=\"model1.pickle\")"
      ],
      "execution_count": 28,
      "outputs": []
    },
    {
      "cell_type": "markdown",
      "metadata": {
        "id": "31NlwA3La_FT",
        "colab_type": "text"
      },
      "source": [
        "\n",
        "## MCMC sampling\n",
        "\n",
        "After the model is built, it is sampled using an MCMC sampler.\n",
        "The number of parallel runs can be set with the argument `cores=`.\n",
        "In particular, due to a bug in Theano, Windows users should set `cores=1`.\n",
        "The sampling can take a long time.\n"
      ]
    },
    {
      "cell_type": "code",
      "metadata": {
        "id": "D0-jA2fba_FW",
        "colab_type": "code",
        "colab": {
          "base_uri": "https://localhost:8080/",
          "height": 625
        },
        "outputId": "0dd31e23-1fa0-45b8-d32d-57b72168016e"
      },
      "source": [
        "model1_trace =  pm.sample(model=model1, cores=4, tune=50, draws=100, init=\"advi+adapt_diag\")"
      ],
      "execution_count": null,
      "outputs": [
        {
          "output_type": "stream",
          "text": [
            "Only 100 samples in chain.\n",
            "WARNING  [pymc3] Only 100 samples in chain.\n",
            "Auto-assigning NUTS sampler...\n",
            "INFO     [pymc3] Auto-assigning NUTS sampler...\n",
            "Initializing NUTS using advi+adapt_diag...\n",
            "INFO     [pymc3] Initializing NUTS using advi+adapt_diag...\n",
            "WARNING (theano.tensor.blas): We did not find a dynamic library in the library_dir of the library we use for blas. If you use ATLAS, make sure to compile it with dynamics library.\n",
            "WARNING  [theano.tensor.blas] We did not find a dynamic library in the library_dir of the library we use for blas. If you use ATLAS, make sure to compile it with dynamics library.\n",
            "WARNING (theano.tensor.blas): We did not find a dynamic library in the library_dir of the library we use for blas. If you use ATLAS, make sure to compile it with dynamics library.\n",
            "WARNING  [theano.tensor.blas] We did not find a dynamic library in the library_dir of the library we use for blas. If you use ATLAS, make sure to compile it with dynamics library.\n",
            "Average Loss = 1,132.3:  13%|█▎        | 26093/200000 [04:18<28:44, 100.86it/s]\n",
            "Convergence achieved at 26100\n",
            "INFO     [pymc3.variational.inference] Convergence achieved at 26100\n",
            "Interrupted at 26,099 [13%]: Average Loss = 1,241.7\n",
            "INFO     [pymc3.variational.inference] Interrupted at 26,099 [13%]: Average Loss = 1,241.7\n",
            "Multiprocess sampling (4 chains in 4 jobs)\n",
            "INFO     [pymc3] Multiprocess sampling (4 chains in 4 jobs)\n",
            "NUTS: [sigma_obs, offset_modulation_rad, weekend_factor_log, delay_log, I_begin_ratio_log, mu, transient_len_1_log_, transient_day_1, lambda_1_log_, lambda_0_log_]\n",
            "INFO     [pymc3] NUTS: [sigma_obs, offset_modulation_rad, weekend_factor_log, delay_log, I_begin_ratio_log, mu, transient_len_1_log_, transient_day_1, lambda_1_log_, lambda_0_log_]\n",
            "Sampling 4 chains: 100%|██████████| 600/600 [29:26<00:00,  2.94s/draws]\n",
            "There were 45 divergences after tuning. Increase `target_accept` or reparameterize.\n",
            "ERROR    [pymc3] There were 45 divergences after tuning. Increase `target_accept` or reparameterize.\n",
            "The acceptance probability does not match the target. It is 0.028701110443310102, but should be close to 0.8. Try to increase the number of tuning steps.\n",
            "WARNING  [pymc3] The acceptance probability does not match the target. It is 0.028701110443310102, but should be close to 0.8. Try to increase the number of tuning steps.\n",
            "The acceptance probability does not match the target. It is 0.9387310234155284, but should be close to 0.8. Try to increase the number of tuning steps.\n",
            "WARNING  [pymc3] The acceptance probability does not match the target. It is 0.9387310234155284, but should be close to 0.8. Try to increase the number of tuning steps.\n",
            "The acceptance probability does not match the target. It is 0.6294627787146462, but should be close to 0.8. Try to increase the number of tuning steps.\n",
            "WARNING  [pymc3] The acceptance probability does not match the target. It is 0.6294627787146462, but should be close to 0.8. Try to increase the number of tuning steps.\n",
            "The gelman-rubin statistic is larger than 1.4 for some parameters. The sampler did not converge.\n",
            "ERROR    [pymc3] The gelman-rubin statistic is larger than 1.4 for some parameters. The sampler did not converge.\n",
            "The number of effective samples is smaller than 10% for some parameters.\n",
            "WARNING  [pymc3] The number of effective samples is smaller than 10% for some parameters.\n"
          ],
          "name": "stderr"
        }
      ]
    },
    {
      "cell_type": "markdown",
      "metadata": {
        "id": "LZJz94qz5hdg",
        "colab_type": "text"
      },
      "source": [
        "\n",
        "Save Model1 Trace Object"
      ]
    },
    {
      "cell_type": "code",
      "metadata": {
        "id": "ahob-RP-5hBe",
        "colab_type": "code",
        "colab": {}
      },
      "source": [
        "#save model1_trace\n",
        "save_load_modelTrace(\"wb\", model1_trace, modelTrace_name=\"model1_trace.pickle\")\n",
        "#load model1_trace\n",
        "model1_trace=save_load_modelTrace(\"rb\", modelTrace_name=\"model1_trace.pickle\")"
      ],
      "execution_count": null,
      "outputs": []
    },
    {
      "cell_type": "code",
      "metadata": {
        "id": "2bvlfMDJCNqb",
        "colab_type": "code",
        "colab": {
          "base_uri": "https://localhost:8080/",
          "height": 550
        },
        "outputId": "72f993b4-71fe-479f-a412-1075ca5fee00"
      },
      "source": [
        "print(model1_trace.chains, \"\\n\")\n",
        "for i in model1_trace.varnames:\n",
        "  print(i)\n",
        "print(model1.name+\"_weekend_factor\")\n",
        "# model1_trace.get_sampler_stats('mu')"
      ],
      "execution_count": null,
      "outputs": [
        {
          "output_type": "stream",
          "text": [
            "[0, 1, 2, 3] \n",
            "\n",
            "lambda_0_log_\n",
            "lambda_1_log_\n",
            "transient_day_1\n",
            "transient_len_1_log_\n",
            "mu_log__\n",
            "I_begin_ratio_log\n",
            "delay_log\n",
            "weekend_factor_log\n",
            "offset_modulation_rad_circular__\n",
            "sigma_obs_log__\n",
            "lambda_0\n",
            "lambda_1\n",
            "transient_len_1\n",
            "lambda_t\n",
            "mu\n",
            "I_begin\n",
            "new_I_t\n",
            "S_t\n",
            "I_t\n",
            "delay\n",
            "delayed_cases\n",
            "weekend_factor\n",
            "offset_modulation_rad\n",
            "offset_modulation\n",
            "new_cases\n",
            "sigma_obs\n",
            "_weekend_factor\n"
          ],
          "name": "stdout"
        }
      ]
    },
    {
      "cell_type": "markdown",
      "metadata": {
        "id": "N_1C1DOGgX14",
        "colab_type": "text"
      },
      "source": [
        "### Plot Timeseries for model1 (one changepoint) and compare performance with validation set"
      ]
    },
    {
      "cell_type": "code",
      "metadata": {
        "id": "kAiwkgKegWFk",
        "colab_type": "code",
        "colab": {
          "base_uri": "https://localhost:8080/",
          "height": 492
        },
        "outputId": "3aaf9247-1f0d-4438-ab3b-d28cedeea02c"
      },
      "source": [
        "plot_timeseries(model1, model1_trace, file_name=\"model1_timeseries.png\") "
      ],
      "execution_count": null,
      "outputs": [
        {
          "output_type": "display_data",
          "data": {
            "image/png": "[encoded data removed]",
            "text/plain": [
              "<Figure size 432x432 with 3 Axes>"
            ]
          },
          "metadata": {
            "tags": [],
            "needs_background": "light"
          }
        }
      ]
    },
    {
      "cell_type": "markdown",
      "metadata": {
        "id": "PyNYu2tagqyW",
        "colab_type": "text"
      },
      "source": [
        "Plot TImeseries for Validation data to compare"
      ]
    },
    {
      "cell_type": "code",
      "metadata": {
        "id": "wc29sjA7qIQF",
        "colab_type": "code",
        "colab": {
          "base_uri": "https://localhost:8080/",
          "height": 211
        },
        "outputId": "e00968f4-958f-45fe-bbd1-8d8f84d23817"
      },
      "source": [
        "#plot cummulative figures and forecaset for august 2\n",
        "plot_simpleTimeSeries(data=val_set, save_as='valset.png', type_of_plot='fcast');"
      ],
      "execution_count": null,
      "outputs": [
        {
          "output_type": "display_data",
          "data": {
            "image/png": "[encoded data removed]",
            "text/plain": [
              "<Figure size 432x216 with 1 Axes>"
            ]
          },
          "metadata": {
            "tags": [],
            "needs_background": "light"
          }
        }
      ]
    },
    {
      "cell_type": "code",
      "metadata": {
        "id": "ZFKKVhYh_9T5",
        "colab_type": "code",
        "colab": {
          "base_uri": "https://localhost:8080/",
          "height": 256
        },
        "outputId": "5d70a477-c982-49b0-d65b-af58069d455b"
      },
      "source": [
        "new_cases_obs"
      ],
      "execution_count": null,
      "outputs": [
        {
          "output_type": "execute_result",
          "data": {
            "text/plain": [
              "date\n",
              "2020-03-14       3\n",
              "2020-03-15       3\n",
              "2020-03-16       0\n",
              "2020-03-17       1\n",
              "2020-03-18       0\n",
              "              ... \n",
              "2020-08-05    1263\n",
              "2020-08-06     567\n",
              "2020-08-07     455\n",
              "2020-08-08     436\n",
              "2020-08-09     470\n",
              "Name: confirmed, Length: 149, dtype: int64"
            ]
          },
          "metadata": {
            "tags": []
          },
          "execution_count": 37
        }
      ]
    },
    {
      "cell_type": "code",
      "metadata": {
        "id": "83RrPZMg_57F",
        "colab_type": "code",
        "colab": {
          "base_uri": "https://localhost:8080/",
          "height": 211
        },
        "outputId": "3b53ac76-622c-4b21-f3d4-b303a7a6532a"
      },
      "source": [
        "#plot daily new cases for August 2\n",
        "plot_simpleTimeSeries(data=new_cases_obs.loc[\"2020-08-02\":], save_as='valset.png', type_of_plot='fcast');"
      ],
      "execution_count": null,
      "outputs": [
        {
          "output_type": "display_data",
          "data": {
            "image/png": "[encoded data removed]",
            "text/plain": [
              "<Figure size 432x216 with 1 Axes>"
            ]
          },
          "metadata": {
            "tags": [],
            "needs_background": "light"
          }
        }
      ]
    },
    {
      "cell_type": "markdown",
      "metadata": {
        "id": "W39qquiQgqoB",
        "colab_type": "text"
      },
      "source": [
        "> From the above, our model performance can be better improved.\n",
        "\n",
        "> The model does not seem to fit well in the daily number of reportted cases, \n",
        "\n",
        "> Its forecasting power is moderately strong and accurate, while the validation set shows over 36k reported case, the model for the train data predicts higher than 30k. \n",
        "\n",
        "> `The model can be improved by increasing its draw and tune size and number of chanegpoints`"
      ]
    },
    {
      "cell_type": "markdown",
      "metadata": {
        "id": "GmvC3JGJgqZD",
        "colab_type": "text"
      },
      "source": [
        "### Model 2\n",
        "\n",
        "__2 Changepoints__"
      ]
    },
    {
      "cell_type": "markdown",
      "metadata": {
        "colab_type": "text",
        "id": "a-gQpzGkwg3v"
      },
      "source": [
        "March 30th and June 15\n",
        "\n",
        "- March 30th : Partial Lockdown\n",
        "\n",
        "- June 15 : COmpulsory use of Facemasks\n",
        "\n",
        "> I used these dates as prior becuase I believe there should be significant changepoint around these policy dates. But I will test my prior with the posteriors of my model.\n",
        "\n",
        "> Indented block\n",
        "\n",
        "\n"
      ]
    },
    {
      "cell_type": "code",
      "metadata": {
        "colab_type": "code",
        "id": "-UiWPG7Hwg31",
        "colab": {}
      },
      "source": [
        "prior_date_mild_dist_begin = datetime.datetime(2020, 3, 30)\n",
        "prior_date_strong_dist_begin = datetime.datetime(2020, 6, 15)\n",
        "#prior_date_contact_ban_begin = datetime.datetime(2020, 7, 26)"
      ],
      "execution_count": null,
      "outputs": []
    },
    {
      "cell_type": "code",
      "metadata": {
        "colab_type": "code",
        "id": "S-fpM0Tywg4H",
        "colab": {}
      },
      "source": [
        "model2_change_points = [\n",
        "    dict(\n",
        "        pr_mean_date_transient=prior_date_mild_dist_begin,\n",
        "        pr_sigma_date_transient=3,\n",
        "        pr_median_lambda=0.2,\n",
        "        pr_sigma_lambda=1\n",
        "    ),\n",
        "    dict(\n",
        "        pr_mean_date_transient=prior_date_strong_dist_begin,\n",
        "        pr_sigma_date_transient=1.5,\n",
        "        pr_median_lambda=1 / 8,\n",
        "        pr_sigma_lambda=1,\n",
        "    )\n",
        "    # dict(\n",
        "    #     pr_mean_date_transient=prior_date_contact_ban_begin,\n",
        "    #     pr_sigma_date_transient=1.5,\n",
        "    #     pr_median_lambda=1 / 8 / 2,\n",
        "    #     pr_sigma_lambda=1,\n",
        "    # )\n",
        "]"
      ],
      "execution_count": null,
      "outputs": []
    },
    {
      "cell_type": "code",
      "metadata": {
        "colab_type": "code",
        "id": "X5ZRPCw5BcmA",
        "colab": {
          "base_uri": "https://localhost:8080/",
          "height": 256
        },
        "outputId": "dec3fa4c-2a77-4b98-bee1-118cc0f844b1"
      },
      "source": [
        "model2 = create_model(params_model, #sim_end=datetime.datetime(2020,8,4), sim_begin=datetime.datetime(2020,3,4), \n",
        "             change_points=model2_change_points)"
      ],
      "execution_count": null,
      "outputs": [
        {
          "output_type": "stream",
          "text": [
            "INFO     [covid19_inference.model.spreading_rate] Lambda_t with sigmoids\n",
            "INFO     [covid19_inference.model.model] pr_median_transient_len was set to default value 4\n",
            "INFO     [covid19_inference.model.model] pr_sigma_transient_len was set to default value 0.5\n",
            "INFO     [covid19_inference.model.model] relative_to_previous was set to default value False\n",
            "INFO     [covid19_inference.model.model] pr_factor_to_previous was set to default value 1\n",
            "INFO     [covid19_inference.model.model] pr_median_transient_len was set to default value 4\n",
            "INFO     [covid19_inference.model.model] pr_sigma_transient_len was set to default value 0.5\n",
            "INFO     [covid19_inference.model.model] relative_to_previous was set to default value False\n",
            "INFO     [covid19_inference.model.model] pr_factor_to_previous was set to default value 1\n",
            "INFO     [covid19_inference.model.compartmental_models] Uncorrelated prior_I\n",
            "INFO     [covid19_inference.model.compartmental_models] SIR\n",
            "INFO     [covid19_inference.model.delay] Delaying cases\n",
            "INFO     [covid19_inference.model.week_modulation] Week modulation\n"
          ],
          "name": "stderr"
        }
      ]
    },
    {
      "cell_type": "markdown",
      "metadata": {
        "colab_type": "text",
        "id": "o4AoJD0ZBcmZ"
      },
      "source": [
        "*save and load* model2\n"
      ]
    },
    {
      "cell_type": "code",
      "metadata": {
        "colab_type": "code",
        "id": "ib4CHpMuBcmc",
        "colab": {}
      },
      "source": [
        "#save model 2\n",
        "save_load_model(\"wb\", model2, \"model2.pickle\")\n",
        "#load model 2\n",
        "model2 = save_load_model(\"rb\", model_name=\"model2.pickle\")"
      ],
      "execution_count": null,
      "outputs": []
    },
    {
      "cell_type": "markdown",
      "metadata": {
        "colab_type": "text",
        "id": "Dw8XFPu9Bcmq"
      },
      "source": [
        "\n",
        "## MCMC sampling\n",
        "\n",
        "After the model is built, it is sampled using an MCMC sampler.\n",
        "The number of parallel runs can be set with the argument `cores=`.\n",
        "In particular, due to a bug in Theano, Windows users should set `cores=1`.\n",
        "The sampling can take a long time.\n"
      ]
    },
    {
      "cell_type": "code",
      "metadata": {
        "colab_type": "code",
        "id": "BiGG4xS9Bcmt",
        "colab": {
          "base_uri": "https://localhost:8080/",
          "height": 808
        },
        "outputId": "fc8650d2-2ae8-461f-ca0e-c5266e0371e6"
      },
      "source": [
        "model2_trace =  pm.sample(model=model2, cores=8, tune=100, draws=250, init=\"advi+adapt_diag\")"
      ],
      "execution_count": null,
      "outputs": [
        {
          "output_type": "stream",
          "text": [
            "Only 250 samples in chain.\n",
            "WARNING  [pymc3] Only 250 samples in chain.\n",
            "Auto-assigning NUTS sampler...\n",
            "INFO     [pymc3] Auto-assigning NUTS sampler...\n",
            "Initializing NUTS using advi+adapt_diag...\n",
            "INFO     [pymc3] Initializing NUTS using advi+adapt_diag...\n",
            "Average Loss = 1,121.2:  12%|█▏        | 24092/200000 [04:17<31:21, 93.50it/s]\n",
            "Convergence achieved at 24100\n",
            "INFO     [pymc3.variational.inference] Convergence achieved at 24100\n",
            "Interrupted at 24,099 [12%]: Average Loss = 1,217.5\n",
            "INFO     [pymc3.variational.inference] Interrupted at 24,099 [12%]: Average Loss = 1,217.5\n",
            "Multiprocess sampling (8 chains in 8 jobs)\n",
            "INFO     [pymc3] Multiprocess sampling (8 chains in 8 jobs)\n",
            "NUTS: [sigma_obs, offset_modulation_rad, weekend_factor_log, delay_log, I_begin_ratio_log, mu, transient_len_2_log_, transient_len_1_log_, transient_day_2, transient_day_1, lambda_2_log_, lambda_1_log_, lambda_0_log_]\n",
            "INFO     [pymc3] NUTS: [sigma_obs, offset_modulation_rad, weekend_factor_log, delay_log, I_begin_ratio_log, mu, transient_len_2_log_, transient_len_1_log_, transient_day_2, transient_day_1, lambda_2_log_, lambda_1_log_, lambda_0_log_]\n",
            "Sampling 8 chains: 100%|██████████| 2800/2800 [4:08:18<00:00,  5.32s/draws]\n",
            "There was 1 divergence after tuning. Increase `target_accept` or reparameterize.\n",
            "ERROR    [pymc3] There was 1 divergence after tuning. Increase `target_accept` or reparameterize.\n",
            "The acceptance probability does not match the target. It is 0.5806030658878975, but should be close to 0.8. Try to increase the number of tuning steps.\n",
            "WARNING  [pymc3] The acceptance probability does not match the target. It is 0.5806030658878975, but should be close to 0.8. Try to increase the number of tuning steps.\n",
            "The chain reached the maximum tree depth. Increase max_treedepth, increase target_accept or reparameterize.\n",
            "WARNING  [pymc3] The chain reached the maximum tree depth. Increase max_treedepth, increase target_accept or reparameterize.\n",
            "The acceptance probability does not match the target. It is 0.910714804915679, but should be close to 0.8. Try to increase the number of tuning steps.\n",
            "WARNING  [pymc3] The acceptance probability does not match the target. It is 0.910714804915679, but should be close to 0.8. Try to increase the number of tuning steps.\n",
            "The acceptance probability does not match the target. It is 0.6473450994000713, but should be close to 0.8. Try to increase the number of tuning steps.\n",
            "WARNING  [pymc3] The acceptance probability does not match the target. It is 0.6473450994000713, but should be close to 0.8. Try to increase the number of tuning steps.\n",
            "The chain reached the maximum tree depth. Increase max_treedepth, increase target_accept or reparameterize.\n",
            "WARNING  [pymc3] The chain reached the maximum tree depth. Increase max_treedepth, increase target_accept or reparameterize.\n",
            "There was 1 divergence after tuning. Increase `target_accept` or reparameterize.\n",
            "ERROR    [pymc3] There was 1 divergence after tuning. Increase `target_accept` or reparameterize.\n",
            "The acceptance probability does not match the target. It is 0.4812419319023666, but should be close to 0.8. Try to increase the number of tuning steps.\n",
            "WARNING  [pymc3] The acceptance probability does not match the target. It is 0.4812419319023666, but should be close to 0.8. Try to increase the number of tuning steps.\n",
            "The chain reached the maximum tree depth. Increase max_treedepth, increase target_accept or reparameterize.\n",
            "WARNING  [pymc3] The chain reached the maximum tree depth. Increase max_treedepth, increase target_accept or reparameterize.\n",
            "The acceptance probability does not match the target. It is 0.6390283010245411, but should be close to 0.8. Try to increase the number of tuning steps.\n",
            "WARNING  [pymc3] The acceptance probability does not match the target. It is 0.6390283010245411, but should be close to 0.8. Try to increase the number of tuning steps.\n",
            "The chain reached the maximum tree depth. Increase max_treedepth, increase target_accept or reparameterize.\n",
            "WARNING  [pymc3] The chain reached the maximum tree depth. Increase max_treedepth, increase target_accept or reparameterize.\n",
            "The acceptance probability does not match the target. It is 0.9288852212640223, but should be close to 0.8. Try to increase the number of tuning steps.\n",
            "WARNING  [pymc3] The acceptance probability does not match the target. It is 0.9288852212640223, but should be close to 0.8. Try to increase the number of tuning steps.\n",
            "The number of effective samples is smaller than 25% for some parameters.\n",
            "INFO     [pymc3] The number of effective samples is smaller than 25% for some parameters.\n"
          ],
          "name": "stderr"
        }
      ]
    },
    {
      "cell_type": "markdown",
      "metadata": {
        "colab_type": "text",
        "id": "Plt0liG_BvF3"
      },
      "source": [
        "Save Model2 Trace Object"
      ]
    },
    {
      "cell_type": "code",
      "metadata": {
        "colab_type": "code",
        "id": "YyKxjOqcBvF7",
        "colab": {}
      },
      "source": [
        "#save model2_trace\n",
        "save_load_modelTrace(\"wb\", model2_trace, modelTrace_name=\"model2_trace.pickle\")\n",
        "#load model2_trace\n",
        "model2_trace=save_load_modelTrace(\"rb\", modelTrace_name=\"model2_trace.pickle\")"
      ],
      "execution_count": null,
      "outputs": []
    },
    {
      "cell_type": "code",
      "metadata": {
        "colab_type": "code",
        "id": "3Y9NaoqeBvGQ",
        "colab": {
          "base_uri": "https://localhost:8080/",
          "height": 623
        },
        "outputId": "94f69e65-1cef-4c35-f077-86d0d442095d"
      },
      "source": [
        "print(model2_trace.chains, \"\\n\")\n",
        "for i in model2_trace.varnames:\n",
        "  print(i)"
      ],
      "execution_count": null,
      "outputs": [
        {
          "output_type": "stream",
          "text": [
            "[0, 1, 2, 3, 4, 5, 6, 7] \n",
            "\n",
            "lambda_0_log_\n",
            "lambda_1_log_\n",
            "lambda_2_log_\n",
            "transient_day_1\n",
            "transient_day_2\n",
            "transient_len_1_log_\n",
            "transient_len_2_log_\n",
            "mu_log__\n",
            "I_begin_ratio_log\n",
            "delay_log\n",
            "weekend_factor_log\n",
            "offset_modulation_rad_circular__\n",
            "sigma_obs_log__\n",
            "lambda_0\n",
            "lambda_1\n",
            "lambda_2\n",
            "transient_len_1\n",
            "transient_len_2\n",
            "lambda_t\n",
            "mu\n",
            "I_begin\n",
            "new_I_t\n",
            "S_t\n",
            "I_t\n",
            "delay\n",
            "delayed_cases\n",
            "weekend_factor\n",
            "offset_modulation_rad\n",
            "offset_modulation\n",
            "new_cases\n",
            "sigma_obs\n"
          ],
          "name": "stdout"
        }
      ]
    },
    {
      "cell_type": "markdown",
      "metadata": {
        "colab_type": "text",
        "id": "umZAsnbdvvGQ"
      },
      "source": [
        "### Plot Timeseries for model2 (Two changepoints) and compare performance with validation set"
      ]
    },
    {
      "cell_type": "code",
      "metadata": {
        "colab_type": "code",
        "id": "yZinEBbcvvGW",
        "colab": {
          "base_uri": "https://localhost:8080/",
          "height": 492
        },
        "outputId": "64218f30-edcb-4300-95a3-295af1f91265"
      },
      "source": [
        "plot_timeseries(model2, model2_trace, file_name=\"model2_timeseries.png\")"
      ],
      "execution_count": null,
      "outputs": [
        {
          "output_type": "display_data",
          "data": {
            "image/png": "[encoded data removed]",
            "text/plain": [
              "<Figure size 432x432 with 3 Axes>"
            ]
          },
          "metadata": {
            "tags": [],
            "needs_background": "light"
          }
        }
      ]
    },
    {
      "cell_type": "markdown",
      "metadata": {
        "colab_type": "text",
        "id": "fKM03WEMvvGr"
      },
      "source": [
        "Plot TImeseries for Validation data to compare"
      ]
    },
    {
      "cell_type": "code",
      "metadata": {
        "colab_type": "code",
        "id": "RTQ2sJJJvvGu",
        "colab": {
          "base_uri": "https://localhost:8080/",
          "height": 211
        },
        "outputId": "1fd8131f-d1be-40d2-e941-907b240e4194"
      },
      "source": [
        "plot_simpleTimeSeries(data=val_set, save_as='valset.png', type_of_plot='fcast');"
      ],
      "execution_count": null,
      "outputs": [
        {
          "output_type": "display_data",
          "data": {
            "image/png": "[encoded data removed]",
            "text/plain": [
              "<Figure size 432x216 with 1 Axes>"
            ]
          },
          "metadata": {
            "tags": [],
            "needs_background": "light"
          }
        }
      ]
    },
    {
      "cell_type": "markdown",
      "metadata": {
        "id": "PHDKHl4bv_Kl",
        "colab_type": "text"
      },
      "source": [
        "### Model 2 Performance \n",
        "\n",
        "> The model's perfromance is quite similiar to that of model 1 but with better prediction,\n",
        "\n",
        "> We can also observe that there was no significant decrease in the number of case (changepoint) from the last government policy on June 15. It remains an upward trend\n",
        "\n",
        "> However, we were able to detec a steady decrease in COVID-19 growth rate (Lambda) in March when the partial lockdown policy was iniitaited also there has been a steady decline in spread rate tendimg towards exponential decay (around June the period when the second policy was initiated - compulsory use of facemasks) as the growth rate tends below the support line."
      ]
    },
    {
      "cell_type": "markdown",
      "metadata": {
        "id": "Yu-XWsIKv_EN",
        "colab_type": "text"
      },
      "source": [
        "> We would test our model further with more changepoints and increased samples\n",
        "\n",
        "> This would be the last model becuase it contains the most recent significant policy date by the Ghanian government which has to do with opening up the economy"
      ]
    },
    {
      "cell_type": "markdown",
      "metadata": {
        "colab_type": "text",
        "id": "IDTsG_xAyoa_"
      },
      "source": [
        "### Model 3\n",
        "\n",
        "__3 Changepoints__\n",
        "\n",
        "\n",
        "March 30th and June 15\n",
        "\n",
        "- March 30th : Partial Lockdown\n",
        "\n",
        "- June 15 : Compulsory use of Facemasks\n",
        "\n",
        "- July 26 : Easing of lockdown measures\n",
        "\n",
        "> I used these dates as prior becuase I believe there should be significant changepoint around these policy dates. But I will test my prior with the posteriors of my model.\n",
        "\n"
      ]
    },
    {
      "cell_type": "code",
      "metadata": {
        "colab_type": "code",
        "id": "13CQRbnkyobV",
        "colab": {}
      },
      "source": [
        "prior_date_mild_dist_begin = datetime.datetime(2020, 3, 30)\n",
        "prior_date_strong_dist_begin = datetime.datetime(2020, 6, 15)\n",
        "prior_date_contact_ban_begin = datetime.datetime(2020, 7, 26)"
      ],
      "execution_count": 29,
      "outputs": []
    },
    {
      "cell_type": "code",
      "metadata": {
        "colab_type": "code",
        "id": "IRHVxYA_yobq",
        "colab": {}
      },
      "source": [
        "model3_change_points = [\n",
        "    dict(\n",
        "        pr_mean_date_transient=prior_date_mild_dist_begin,\n",
        "        pr_sigma_date_transient=3,\n",
        "        pr_median_lambda=0.2,\n",
        "        pr_sigma_lambda=1\n",
        "    ),\n",
        "    dict(\n",
        "        pr_mean_date_transient=prior_date_strong_dist_begin,\n",
        "        pr_sigma_date_transient=1.5,\n",
        "        pr_median_lambda=1 / 8,\n",
        "        pr_sigma_lambda=1,\n",
        "    ),\n",
        "    dict(\n",
        "        pr_mean_date_transient=prior_date_contact_ban_begin,\n",
        "        pr_sigma_date_transient=1.5,\n",
        "        pr_median_lambda=1 / 8 / 2,\n",
        "        pr_sigma_lambda=1,\n",
        "    )\n",
        "]"
      ],
      "execution_count": 30,
      "outputs": []
    },
    {
      "cell_type": "code",
      "metadata": {
        "colab_type": "code",
        "id": "RiLhjpG8yob3",
        "colab": {
          "base_uri": "https://localhost:8080/",
          "height": 329
        },
        "outputId": "78ae3ff5-458e-4efc-ac89-bb6d6c6a793c"
      },
      "source": [
        "model3 = create_model(params_model,#sim_begin=datetime.datetime(2020,3,4), #sim_end=datetime.datetime(2020,8,4), \n",
        "             change_points=model3_change_points)"
      ],
      "execution_count": 31,
      "outputs": [
        {
          "output_type": "stream",
          "text": [
            "INFO     [covid19_inference.model.spreading_rate] Lambda_t with sigmoids\n",
            "INFO     [covid19_inference.model.model] pr_median_transient_len was set to default value 4\n",
            "INFO     [covid19_inference.model.model] pr_sigma_transient_len was set to default value 0.5\n",
            "INFO     [covid19_inference.model.model] relative_to_previous was set to default value False\n",
            "INFO     [covid19_inference.model.model] pr_factor_to_previous was set to default value 1\n",
            "INFO     [covid19_inference.model.model] pr_median_transient_len was set to default value 4\n",
            "INFO     [covid19_inference.model.model] pr_sigma_transient_len was set to default value 0.5\n",
            "INFO     [covid19_inference.model.model] relative_to_previous was set to default value False\n",
            "INFO     [covid19_inference.model.model] pr_factor_to_previous was set to default value 1\n",
            "INFO     [covid19_inference.model.model] pr_median_transient_len was set to default value 4\n",
            "INFO     [covid19_inference.model.model] pr_sigma_transient_len was set to default value 0.5\n",
            "INFO     [covid19_inference.model.model] relative_to_previous was set to default value False\n",
            "INFO     [covid19_inference.model.model] pr_factor_to_previous was set to default value 1\n",
            "INFO     [covid19_inference.model.compartmental_models] Uncorrelated prior_I\n",
            "INFO     [covid19_inference.model.compartmental_models] SIR\n",
            "INFO     [covid19_inference.model.delay] Delaying cases\n",
            "INFO     [covid19_inference.model.week_modulation] Week modulation\n"
          ],
          "name": "stderr"
        }
      ]
    },
    {
      "cell_type": "markdown",
      "metadata": {
        "colab_type": "text",
        "id": "yUz4_l4ZyocC"
      },
      "source": [
        "*save and load* model2\n"
      ]
    },
    {
      "cell_type": "code",
      "metadata": {
        "colab_type": "code",
        "id": "iSlB_fJyyocF",
        "colab": {}
      },
      "source": [
        "#save model 3\n",
        "save_load_model(\"wb\", model3, \"model3.pickle\")\n",
        "#load model 3\n",
        "model3 = save_load_model(\"rb\", model_name=\"model3.pickle\")"
      ],
      "execution_count": 32,
      "outputs": []
    },
    {
      "cell_type": "markdown",
      "metadata": {
        "colab_type": "text",
        "id": "TG9Zo9zDyocS"
      },
      "source": [
        "\n",
        "## MCMC sampling\n",
        "\n",
        "After the model is built, it is sampled using an MCMC sampler.\n",
        "The number of parallel runs can be set with the argument `cores=`.\n",
        "In particular, due to a bug in Theano, Windows users should set `cores=1`.\n",
        "The sampling can take a long time.\n"
      ]
    },
    {
      "cell_type": "code",
      "metadata": {
        "colab_type": "code",
        "id": "MiYe5QndyocT",
        "colab": {
          "base_uri": "https://localhost:8080/",
          "height": 166
        },
        "outputId": "f255bd12-31de-4a03-bf4a-1182d9d9e0bb"
      },
      "source": [
        "model3_trace =  pm.sample(model=model3, cores=16, tune=200, draws=500, init=\"advi+adapt_diag\")"
      ],
      "execution_count": null,
      "outputs": [
        {
          "output_type": "stream",
          "text": [
            "Auto-assigning NUTS sampler...\n",
            "INFO     [pymc3] Auto-assigning NUTS sampler...\n",
            "Initializing NUTS using advi+adapt_diag...\n",
            "INFO     [pymc3] Initializing NUTS using advi+adapt_diag...\n",
            "WARNING (theano.tensor.blas): We did not find a dynamic library in the library_dir of the library we use for blas. If you use ATLAS, make sure to compile it with dynamics library.\n",
            "WARNING  [theano.tensor.blas] We did not find a dynamic library in the library_dir of the library we use for blas. If you use ATLAS, make sure to compile it with dynamics library.\n",
            "Average Loss = 1,121.7:  15%|█▌        | 30787/200000 [05:23<28:59, 97.26it/s]"
          ],
          "name": "stderr"
        }
      ]
    },
    {
      "cell_type": "markdown",
      "metadata": {
        "colab_type": "text",
        "id": "X0upsTZZyocd"
      },
      "source": [
        "Save Model2 Trace Object"
      ]
    },
    {
      "cell_type": "code",
      "metadata": {
        "colab_type": "code",
        "id": "jfPk75Cfyocf",
        "colab": {}
      },
      "source": [
        "#save model3_trace\n",
        "save_load_modelTrace(\"wb\", model3_trace, modelTrace_name=\"model3_trace.pickle\")\n",
        "#load model3_trace\n",
        "model3_trace=save_load_modelTrace(\"rb\", modelTrace_name=\"model3_trace.pickle\")"
      ],
      "execution_count": null,
      "outputs": []
    },
    {
      "cell_type": "code",
      "metadata": {
        "colab_type": "code",
        "id": "cPhX7MAWyocn",
        "colab": {
          "base_uri": "https://localhost:8080/",
          "height": 531
        },
        "outputId": "c0a23683-aaa5-4c12-8cbb-bee7e0466bd0"
      },
      "source": [
        "print(model2_trace.chains, \"\\n\")\n",
        "for i in model3_trace.varnames:\n",
        "  print(i)"
      ],
      "execution_count": null,
      "outputs": [
        {
          "output_type": "stream",
          "text": [
            "[0, 1, 2, 3, 4, 5, 6, 7] \n",
            "\n",
            "lambda_0_log_\n",
            "lambda_1_log_\n",
            "transient_day_1\n",
            "transient_len_1_log_\n",
            "mu_log__\n",
            "I_begin_ratio_log\n",
            "delay_log\n",
            "weekend_factor_log\n",
            "offset_modulation_rad_circular__\n",
            "sigma_obs_log__\n",
            "lambda_0\n",
            "lambda_1\n",
            "transient_len_1\n",
            "lambda_t\n",
            "mu\n",
            "I_begin\n",
            "new_I_t\n",
            "S_t\n",
            "I_t\n",
            "delay\n",
            "delayed_cases\n",
            "weekend_factor\n",
            "offset_modulation_rad\n",
            "offset_modulation\n",
            "new_cases\n",
            "sigma_obs\n"
          ],
          "name": "stdout"
        }
      ]
    },
    {
      "cell_type": "markdown",
      "metadata": {
        "colab_type": "text",
        "id": "syzphlBAyocy"
      },
      "source": [
        "### Plot Timeseries for model3 (Three changepoints) and compare performance with validation set "
      ]
    },
    {
      "cell_type": "code",
      "metadata": {
        "colab_type": "code",
        "id": "1-yKUkSiyocz",
        "colab": {
          "base_uri": "https://localhost:8080/",
          "height": 492
        },
        "outputId": "4b7cfefd-984f-4c49-8cf3-dc26cb1ad86e"
      },
      "source": [
        "plot_timeseries(model3, model3_trace, file_name=\"model3_timeseries.png\")"
      ],
      "execution_count": null,
      "outputs": [
        {
          "output_type": "display_data",
          "data": {
            "image/png": "[encoded data removed]",
            "text/plain": [
              "<Figure size 432x432 with 3 Axes>"
            ]
          },
          "metadata": {
            "tags": [],
            "needs_background": "light"
          }
        }
      ]
    },
    {
      "cell_type": "markdown",
      "metadata": {
        "colab_type": "text",
        "id": "kXVUZo1eyoc7"
      },
      "source": [
        "Plot TImeseries for Validation data to compare"
      ]
    },
    {
      "cell_type": "code",
      "metadata": {
        "colab_type": "code",
        "id": "mm_lShWSyoc9",
        "colab": {
          "base_uri": "https://localhost:8080/",
          "height": 211
        },
        "outputId": "03e8c8ec-e570-400a-bdba-fabed5339da6"
      },
      "source": [
        "plot_simpleTimeSeries(data=val_set, save_as='valset.png', type_of_plot='fcast');"
      ],
      "execution_count": null,
      "outputs": [
        {
          "output_type": "display_data",
          "data": {
            "image/png": "[encoded data removed]",
            "text/plain": [
              "<Figure size 432x216 with 1 Axes>"
            ]
          },
          "metadata": {
            "tags": [],
            "needs_background": "light"
          }
        }
      ]
    },
    {
      "cell_type": "markdown",
      "metadata": {
        "colab_type": "text",
        "id": "qtAy6TbsyodF"
      },
      "source": [
        "### Model 3 Performance \n",
        "\n",
        "> The model's perfromance ...."
      ]
    },
    {
      "cell_type": "markdown",
      "metadata": {
        "id": "c0-r1osYG0G2",
        "colab_type": "text"
      },
      "source": [
        "## Predict model parameters (spread rate, recovery rate, etc. till August 10)"
      ]
    },
    {
      "cell_type": "markdown",
      "metadata": {
        "id": "KLCWn1gCLbYU",
        "colab_type": "text"
      },
      "source": [
        "> Reset parameters to predict model up till August 10"
      ]
    },
    {
      "cell_type": "code",
      "metadata": {
        "id": "iB9Ghkz-tKVU",
        "colab_type": "code",
        "colab": {}
      },
      "source": [
        "diff_data_sim = 10  # should be significantly larger than the expected delay, in order to always fit the same number of data points.\n",
        "num_days_forecast = 10 #days"
      ],
      "execution_count": null,
      "outputs": []
    },
    {
      "cell_type": "markdown",
      "metadata": {
        "id": "lJa98TgSLh8j",
        "colab_type": "text"
      },
      "source": [
        "> Rebuild Model"
      ]
    },
    {
      "cell_type": "code",
      "metadata": {
        "id": "MmvoBpCOtKE3",
        "colab_type": "code",
        "colab": {}
      },
      "source": [
        "model3 = create_model(params_model,#sim_begin=datetime.datetime(2020,3,4), #sim_end=datetime.datetime(2020,8,4), \n",
        "             change_points=model3_change_points)"
      ],
      "execution_count": null,
      "outputs": []
    },
    {
      "cell_type": "code",
      "metadata": {
        "id": "ybfjFohCtJ3r",
        "colab_type": "code",
        "colab": {}
      },
      "source": [
        "#save model 3\n",
        "save_load_model(\"wb\", model3, \"model3.pickle\")\n",
        "#load model 3\n",
        "model3 = save_load_model(\"rb\", model_name=\"model3.pickle\")"
      ],
      "execution_count": null,
      "outputs": []
    },
    {
      "cell_type": "code",
      "metadata": {
        "id": "I5DWY609LvLu",
        "colab_type": "code",
        "colab": {}
      },
      "source": [
        "model3_trace =  pm.sample(model=model3, cores=16, tune=200, draws=500, init=\"advi+adapt_diag\")"
      ],
      "execution_count": null,
      "outputs": []
    },
    {
      "cell_type": "code",
      "metadata": {
        "id": "J4FPHz-dLzmw",
        "colab_type": "code",
        "colab": {}
      },
      "source": [
        "#save model3_trace\n",
        "save_load_modelTrace(\"wb\", model3_trace, modelTrace_name=\"model3_trace.pickle\")\n",
        "#load model3_trace\n",
        "model3_trace=save_load_modelTrace(\"rb\", modelTrace_name=\"model3_trace.pickle\")"
      ],
      "execution_count": null,
      "outputs": []
    },
    {
      "cell_type": "code",
      "metadata": {
        "id": "9vd8C5CNLzkd",
        "colab_type": "code",
        "colab": {}
      },
      "source": [
        "plot_timeseries(model3, model3_trace, file_name=\"model3_timeseries.png\")"
      ],
      "execution_count": null,
      "outputs": []
    },
    {
      "cell_type": "markdown",
      "metadata": {
        "id": "biqhSSlfMPVv",
        "colab_type": "text"
      },
      "source": [
        "   ` `"
      ]
    },
    {
      "cell_type": "markdown",
      "metadata": {
        "id": "TY2iq3-0a_Ff",
        "colab_type": "text"
      },
      "source": [
        "\n",
        "## Plotting  Distributions\n",
        "\n",
        "> Since we have a working model now, we can plot our model parameters such as:\n",
        "- Lambda (spread rate)\n",
        "- mu (recovery rate), etc."
      ]
    },
    {
      "cell_type": "code",
      "metadata": {
        "id": "05seDXcKtLtl",
        "colab_type": "code",
        "colab": {}
      },
      "source": [
        ""
      ],
      "execution_count": null,
      "outputs": []
    },
    {
      "cell_type": "code",
      "metadata": {
        "id": "wQSW2qyItLhO",
        "colab_type": "code",
        "colab": {}
      },
      "source": [
        ""
      ],
      "execution_count": null,
      "outputs": []
    },
    {
      "cell_type": "markdown",
      "metadata": {
        "id": "54TS-ifEVeb8",
        "colab_type": "text"
      },
      "source": [
        "### Analytical Summary\n",
        "\n",
        "> We started by identifying the date the first covid case was recorded in Ghana. This was on March 14. We used this data to query the JHU database and identified March 26 as when the number of cases reached 100. We decided to use the date as the starting point of our analysis and the train data for our model and used July 25th as the end date for the trained model. This helped us to validate the accuracy of our analysis and forecast. We compared the prediction of the train data until August 2nd and found that the predictions were quite reliable and we then extended the model to predict up till August 10. The predicted number of cases for August 10 was between 500 t0 650 (0.50k - 0.65k) cases. \n",
        "\n",
        "> We identified some significant changepoints in our Time Series graph during the following dates:\n",
        "- April 12 - A decrease in spread rate\n",
        "- June 17 - A slow spread rate\n",
        "- August 02 - A slow rise in spread rate.\n",
        "\n",
        "> We checked to confirm if there were policies made around this period (factoring the delay time of 3 days). Our research on Ghana government policy interventions during this period confirmed that these changepoints could have been as a result of the following intervention policies made by the government\n",
        "March 30, 2020 - Partial Lockdown by the Government\n",
        "June 15, 2020 - Compulsory use of Facemasks\n",
        "July 26,  2020 - Easing of Lockdown. \n",
        "The effects of these interventions were observed in the changepoints identified above. \n",
        "Our prediction till August 10 of an increase in spread rate would be validated in the future date from new cases reports from the Johns Hopkins Database\n"
      ]
    },
    {
      "cell_type": "markdown",
      "metadata": {
        "id": "vBY2Dtrh_VRC",
        "colab_type": "text"
      },
      "source": [
        "### Recoomendations and Conclusions\n",
        "\n",
        "> From our analysis, we discovered that despite there were intervention policies by the government, timeliness of the interventions mattered most. Interventions’ effects do not occur until sometime later in the future. Hence in future pandemics, drastic and bold policies should be taken as early as possible giving little or no room for exponential growth in the rate of spread. \n",
        "As much as possible, delay in identification, testing and reporting of confirmed epidemic cases should  be shortened. This would help analysts get  a more accurate and timely forecast of future trends of the spread of the epidemic.\n"
      ]
    },
    {
      "cell_type": "markdown",
      "metadata": {
        "id": "MwRSgTNhWAsK",
        "colab_type": "text"
      },
      "source": [
        "### Limitations\n",
        "> The Analysis was based on data obtained from the Johns Hopkins University Database, hence the accuracy of the data, largely affects the accuracy of my analysis.\n",
        "This analysis might not be so useful in future dates because some of the priors are based on available realities now which might change in the future. However, the qualitative significance of the work can be relied upon in tackling future epidemics."
      ]
    }
  ]
}