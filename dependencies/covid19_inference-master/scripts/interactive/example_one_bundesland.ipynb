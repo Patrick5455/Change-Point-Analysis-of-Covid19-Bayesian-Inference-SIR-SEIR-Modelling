{
  "nbformat": 4,
  "nbformat_minor": 0,
  "metadata": {
    "kernelspec": {
      "display_name": "Python 3",
      "language": "python",
      "name": "python3"
    },
    "language_info": {
      "codemirror_mode": {
        "name": "ipython",
        "version": 3
      },
      "file_extension": ".py",
      "mimetype": "text/x-python",
      "name": "python",
      "nbconvert_exporter": "python",
      "pygments_lexer": "ipython3",
      "version": "3.7.7"
    },
    "colab": {
      "name": "example_one_bundesland.ipynb",
      "provenance": [],
      "include_colab_link": true
    }
  },
  "cells": [
    {
      "cell_type": "markdown",
      "metadata": {
        "id": "view-in-github",
        "colab_type": "text"
      },
      "source": [
        "<a href=\"https://colab.research.google.com/github/Patrick5455/Change-Point-Analysis-of-Covid19-Bayesian-Inference-SIR-SEIR-Modelling/blob/master/dependencies/covid19_inference-master/scripts/interactive/example_one_bundesland.ipynb\" target=\"_parent\"><img src=\"https://colab.research.google.com/assets/colab-badge.svg\" alt=\"Open In Colab\"/></a>"
      ]
    },
    {
      "cell_type": "markdown",
      "metadata": {
        "id": "xLUFbC3Z0uS8",
        "colab_type": "text"
      },
      "source": [
        "# Change point analysis to quantify the impact of the Ghanian government policy interventions to slow the spread of COVID-19\n",
        "\n",
        ">> For easier navigation, open with google-colab link below and use the Table of contents in the left pane\n"
      ]
    },
    {
      "cell_type": "markdown",
      "metadata": {
        "id": "arryFJrJ1X4Y",
        "colab_type": "text"
      },
      "source": [
        "`Mount Google Drive to save files and visuals`"
      ]
    },
    {
      "cell_type": "code",
      "metadata": {
        "id": "otZOIEHCMPHY",
        "colab_type": "code",
        "colab": {
          "base_uri": "https://localhost:8080/",
          "height": 35
        },
        "outputId": "2ddca7a0-fba8-4e17-c493-870e3bb1c44e"
      },
      "source": [
        "#To mount the Google Drive\n",
        "from google.colab import drive\n",
        "drive.mount('/content/gdrive')#To Save the trace results to a pickle file"
      ],
      "execution_count": null,
      "outputs": [
        {
          "output_type": "stream",
          "text": [
            "Drive already mounted at /content/gdrive; to attempt to forcibly remount, call drive.mount(\"/content/gdrive\", force_remount=True).\n"
          ],
          "name": "stdout"
        }
      ]
    },
    {
      "cell_type": "markdown",
      "metadata": {
        "id": "13la2iM71gNa",
        "colab_type": "text"
      },
      "source": [
        "`install the library to be used for this analysis`\n",
        "\n",
        "check [here](https://science.sciencemag.org/content/sci/369/6500/eabb9789.full.pdf) for more info on the research work for this library"
      ]
    },
    {
      "cell_type": "code",
      "metadata": {
        "id": "eQw7UNXua_C0",
        "colab_type": "code",
        "colab": {
          "base_uri": "https://localhost:8080/",
          "height": 478
        },
        "outputId": "32d167ed-f062-4b9c-80dc-630d2c371d70"
      },
      "source": [
        "!pip install git+https://github.com/Priesemann-Group/covid19_inference.git"
      ],
      "execution_count": null,
      "outputs": [
        {
          "output_type": "stream",
          "text": [
            "Collecting git+https://github.com/Priesemann-Group/covid19_inference.git\n",
            "  Cloning https://github.com/Priesemann-Group/covid19_inference.git to /tmp/pip-req-build-am0k_z_1\n",
            "  Running command git clone -q https://github.com/Priesemann-Group/covid19_inference.git /tmp/pip-req-build-am0k_z_1\n",
            "Requirement already satisfied (use --upgrade to upgrade): covid19-inference==0.1.8a0 from git+https://github.com/Priesemann-Group/covid19_inference.git in /usr/local/lib/python3.6/dist-packages\n",
            "Requirement already satisfied: pymc3 in /usr/local/lib/python3.6/dist-packages (from covid19-inference==0.1.8a0) (3.7)\n",
            "Requirement already satisfied: matplotlib in /usr/local/lib/python3.6/dist-packages (from covid19-inference==0.1.8a0) (3.2.2)\n",
            "Requirement already satisfied: numpy in /usr/local/lib/python3.6/dist-packages (from covid19-inference==0.1.8a0) (1.18.5)\n",
            "Requirement already satisfied: pandas in /usr/local/lib/python3.6/dist-packages (from covid19-inference==0.1.8a0) (1.0.5)\n",
            "Requirement already satisfied: theano in /usr/local/lib/python3.6/dist-packages (from covid19-inference==0.1.8a0) (1.0.5)\n",
            "Requirement already satisfied: scipy>=0.18.1 in /usr/local/lib/python3.6/dist-packages (from pymc3->covid19-inference==0.1.8a0) (1.4.1)\n",
            "Requirement already satisfied: tqdm>=4.8.4 in /usr/local/lib/python3.6/dist-packages (from pymc3->covid19-inference==0.1.8a0) (4.41.1)\n",
            "Requirement already satisfied: patsy>=0.4.0 in /usr/local/lib/python3.6/dist-packages (from pymc3->covid19-inference==0.1.8a0) (0.5.1)\n",
            "Requirement already satisfied: h5py>=2.7.0 in /usr/local/lib/python3.6/dist-packages (from pymc3->covid19-inference==0.1.8a0) (2.10.0)\n",
            "Requirement already satisfied: pyparsing!=2.0.4,!=2.1.2,!=2.1.6,>=2.0.1 in /usr/local/lib/python3.6/dist-packages (from matplotlib->covid19-inference==0.1.8a0) (2.4.7)\n",
            "Requirement already satisfied: python-dateutil>=2.1 in /usr/local/lib/python3.6/dist-packages (from matplotlib->covid19-inference==0.1.8a0) (2.8.1)\n",
            "Requirement already satisfied: kiwisolver>=1.0.1 in /usr/local/lib/python3.6/dist-packages (from matplotlib->covid19-inference==0.1.8a0) (1.2.0)\n",
            "Requirement already satisfied: cycler>=0.10 in /usr/local/lib/python3.6/dist-packages (from matplotlib->covid19-inference==0.1.8a0) (0.10.0)\n",
            "Requirement already satisfied: pytz>=2017.2 in /usr/local/lib/python3.6/dist-packages (from pandas->covid19-inference==0.1.8a0) (2018.9)\n",
            "Requirement already satisfied: six>=1.9.0 in /usr/local/lib/python3.6/dist-packages (from theano->covid19-inference==0.1.8a0) (1.15.0)\n",
            "Building wheels for collected packages: covid19-inference\n",
            "  Building wheel for covid19-inference (setup.py) ... \u001b[?25l\u001b[?25hdone\n",
            "  Created wheel for covid19-inference: filename=covid19_inference-0.1.8a0-cp36-none-any.whl size=103637 sha256=236e0b9b6b637843d7b94361e7b3d3b80c1b603df4484a72d19dc4d4c9cebceb\n",
            "  Stored in directory: /tmp/pip-ephem-wheel-cache-j290vkwq/wheels/da/f1/e7/da56ba4fe019b70927b4bb10088f02f672b31b69fd54a6e613\n",
            "Successfully built covid19-inference\n"
          ],
          "name": "stdout"
        }
      ]
    },
    {
      "cell_type": "markdown",
      "metadata": {
        "id": "aaw_BB3ea_DI",
        "colab_type": "text"
      },
      "source": [
        "\n",
        "\n",
        "1.   List item\n",
        "2.   List item\n",
        "\n",
        "\n",
        "\n",
        "# Bayesian Inference of Ghana Covid 19 Data\n",
        "Non-hierarchical model using jhu data.\n",
        "\n",
        "Runtime ~ 15 min\n",
        "\n",
        "The first thing we need to do is import some essential stuff. Theses have to be installed and are prerequisites.\n"
      ]
    },
    {
      "cell_type": "code",
      "metadata": {
        "id": "Cbbt4TKGa_DQ",
        "colab_type": "code",
        "colab": {}
      },
      "source": [
        "import datetime\n",
        "import time as time_module\n",
        "import sys\n",
        "import pandas as pd\n",
        "import numpy as np\n",
        "import matplotlib as mpl\n",
        "import matplotlib.pyplot as plt\n",
        "import scipy.stats\n",
        "import theano\n",
        "import theano.tensor as tt\n",
        "import pymc3 as pm\n",
        "import pickle"
      ],
      "execution_count": null,
      "outputs": []
    },
    {
      "cell_type": "code",
      "metadata": {
        "id": "JIaH42DFa_Df",
        "colab_type": "code",
        "colab": {}
      },
      "source": [
        "# Now to the fun stuff, we import our module!\n",
        "try:\n",
        "    import covid19_inference as cov19\n",
        "except ModuleNotFoundError:\n",
        "    sys.path.append(\"../../\")\n",
        "    import covid19_inference as cov19"
      ],
      "execution_count": null,
      "outputs": []
    },
    {
      "cell_type": "markdown",
      "metadata": {
        "id": "SF5bUGr0lRxh",
        "colab_type": "text"
      },
      "source": [
        "### Define Utility Function"
      ]
    },
    {
      "cell_type": "markdown",
      "metadata": {
        "id": "RkA7efCclt5M",
        "colab_type": "text"
      },
      "source": [
        "####save model trace\n"
      ]
    },
    {
      "cell_type": "code",
      "metadata": {
        "id": "j8-vDijrlX3B",
        "colab_type": "code",
        "colab": {}
      },
      "source": [
        "def save_load_modelTrace (action, modelTrace, modelTrace_name='new_model.pickle'):\n",
        "\n",
        "  if action == \"wb\":\n",
        "    pickle_out = open('/content/models/'+modelTrace_name,action)\n",
        "    pickle.dump(modelTrace, pickle_out)\n",
        "    pickle_out.close() \n",
        "\n",
        "  elif action==\"rb\":\n",
        "    pickle_in = open('/content/models/'+modelTrace_name,action)\n",
        "    modelTrace=pickle.load(pickle_in)\n",
        "    \n",
        "    return modelTrace"
      ],
      "execution_count": null,
      "outputs": []
    },
    {
      "cell_type": "markdown",
      "metadata": {
        "id": "e0LPTc8RlzGT",
        "colab_type": "text"
      },
      "source": [
        "#### Plot timeseries"
      ]
    },
    {
      "cell_type": "code",
      "metadata": {
        "id": "3Z-Qicw3lX0J",
        "colab_type": "code",
        "colab": {}
      },
      "source": [
        "def plot_timeseries(model, model_trace, start=None, end=None,\n",
        "                    file_name=\"new_timeseries.png\", offset=3000,\n",
        "                    add_more_later=False\n",
        "                    ):\n",
        "  fig, axes = cov19.plot.timeseries_overview(model, model_trace,annotate_watermark=True,\n",
        "                                             \n",
        "                                             save_to=\"/content/visuals\"+file_name, forecast_label='Ghana Forecast',\n",
        "\n",
        "                                             forecast_heading=\"Ghana Covid19 Forecast\",\n",
        "\n",
        "                                             add_more_later=add_more_later,\n",
        "                                             \n",
        "                                     offset=offset, start=datetime.datetime(start), end=datetime.datetime(end))\n",
        "  return fig"
      ],
      "execution_count": null,
      "outputs": []
    },
    {
      "cell_type": "markdown",
      "metadata": {
        "id": "kUJo5fcosmZu",
        "colab_type": "text"
      },
      "source": [
        "#### Plot simple timeseries"
      ]
    },
    {
      "cell_type": "code",
      "metadata": {
        "id": "jGKGLZPqsrq1",
        "colab_type": "code",
        "colab": {}
      },
      "source": [
        "def plot_simpleTimeSeries(data,type_of_plot = 'data'):\n",
        "\n",
        "  \"\"\"\n",
        "   low-level function to plot anything that has a date on the x-axis.\n",
        "\n",
        "        Parameters\n",
        "        ----------\n",
        "        x : array of datetime.datetime\n",
        "            times for the x axis\n",
        "\n",
        "        y : array, 1d or 2d\n",
        "            data to plot. if 2d, we plot the CI as fill_between (if CI enabled in rc\n",
        "            params)\n",
        "            if 2d, then first dim is realization and second dim is time matching `x`\n",
        "            if 1d then first tim is time matching `x`\n",
        "\n",
        "         what: str, optional\n",
        "            what type of data is provided in x. sets the style used for plotting:\n",
        "            * `data` for data points\n",
        "            * `fcast` for model forecast (prediction)\n",
        "            * `model` for model reproduction of data (past)\n",
        "\n",
        "  \"\"\"\n",
        "\n",
        "  date=data.index\n",
        "  figures=data\n",
        "  fig, axes = cov19._timeseries(x=date, y=figures, what=type_of_plot)\n",
        "  return fig"
      ],
      "execution_count": null,
      "outputs": []
    },
    {
      "cell_type": "markdown",
      "metadata": {
        "id": "GZIzpz0mocD9",
        "colab_type": "text"
      },
      "source": [
        "#### Plot Posterior Parameters"
      ]
    },
    {
      "cell_type": "code",
      "metadata": {
        "id": "WNASummDlXtr",
        "colab_type": "code",
        "colab": {}
      },
      "source": [
        "def plot_distributions(model, model_trace, color=None):\n",
        "    fig, axes = plt.subplots(6, 3, figsize=(12, 6))\n",
        "    #axes[0, 2].set_visible(False)\n",
        "    #axes[1, 2].set_visible(False)\n",
        "    left_column = [\"weekend_factor\", \"mu\", \"lambda_0\", \"lambda_1\", \"lambda_2\", \"lambda_3\"]\n",
        "    mid_column = [\"offset_modulation\",\"sigma_obs\",\"I_begin\",\"transient_day_1\",\"transient_day_2\",\"transient_day_3\"]\n",
        "    right_column =  [\"delay\", \"transient_len_1\", \"transient_len_2\", \"transient_len_3\"]\n",
        "\n",
        "    for idx, var in enumerate(left_column):\n",
        "        cov19.plot._distribution(model, trace, var, ax=axes[idx, 0], color=color)\n",
        "\n",
        "    for idx, var in enumerate(mid_column):\n",
        "        cov19.plot._distribution(model, trace, var, ax=axes[idx, 1], color=color)\n",
        "\n",
        "    for idx, var in enumerate(right_column):\n",
        "        cov19.plot._distribution(model, trace, var, ax=axes[idx+2, 2], color=color)\n",
        "\n",
        "    fig.tight_layout()\n",
        "    return fig"
      ],
      "execution_count": null,
      "outputs": []
    },
    {
      "cell_type": "markdown",
      "metadata": {
        "id": "Mqmjolr8xF1U",
        "colab_type": "text"
      },
      "source": [
        "#### Define Model"
      ]
    },
    {
      "cell_type": "code",
      "metadata": {
        "id": "I21j9Pq5lXOx",
        "colab_type": "code",
        "colab": {}
      },
      "source": [
        " def create_model(model_params, bd, ed, sim_begin, sim_end, change_points):\n",
        "   with cov19.model.Cov19Model(params_model=model_params) as this_model:\n",
        "\n",
        "      \"\"\"\n",
        "      params_model is used to initlaise an object instance of Cov19Model\n",
        "\n",
        "          change_points is a list of dates used to specify the change points for our model\n",
        "\n",
        "          model_type could be SIR or SIER\n",
        "      \"\"\"\n",
        "\n",
        "\n",
        "\n",
        "    #specify extra attriubutes\n",
        "      data_end=ed,\n",
        "      sim_begin=sim_begin   #datetime.datetime(2020,3,4),\n",
        "      sim_end=sim_end       #datetime.datetime(2020,8,4),\n",
        "\n",
        "      # Create the an array of the time dependent infection rate lambda\n",
        "      lambda_t_log = cov19.model.lambda_t_with_sigmoids(\n",
        "          pr_median_lambda_0=0.4,\n",
        "          pr_sigma_lambda_0=0.5,\n",
        "          change_points_list=change_points,  # The change point priors we constructed earlier\n",
        "          name_lambda_t=\"lambda_t\",  # Name for the variable in the trace (see later)\n",
        "      )\n",
        "\n",
        "      # set prior distribution for the recovery rate\n",
        "      mu = pm.Lognormal(name=\"mu\", mu=np.log(1 / 8), sigma=0.2)\n",
        "\n",
        "      # This builds a decorrelated prior for I_begin for faster inference.\n",
        "      # It is not necessary to use it, one can simply remove it and use the default argument\n",
        "      # for pr_I_begin in cov19.SIR\n",
        "      prior_I = cov19.model.uncorrelated_prior_I(\n",
        "          lambda_t_log=lambda_t_log,\n",
        "          mu=mu,\n",
        "          pr_median_delay=pr_delay,\n",
        "          name_I_begin=\"I_begin\",\n",
        "          name_I_begin_ratio_log=\"I_begin_ratio_log\",\n",
        "          pr_sigma_I_begin=2,\n",
        "          n_data_points_used=5,\n",
        "      )\n",
        "\n",
        "      # Use lambda_t_log and mu to run the SIR model\n",
        "      new_cases = cov19.model.SIR(\n",
        "          lambda_t_log=lambda_t_log,\n",
        "          mu=mu,\n",
        "          name_new_I_t=\"new_I_t\",\n",
        "          name_I_t=\"I_t\",\n",
        "          name_I_begin=\"I_begin\",\n",
        "          pr_I_begin=prior_I,\n",
        "      )\n",
        "\n",
        "      # Delay the cases by a lognormal reporting delay\n",
        "      new_cases = cov19.model.delay_cases(\n",
        "          cases=new_cases,\n",
        "          name_cases=\"delayed_cases\",\n",
        "          name_delay=\"delay\",\n",
        "          name_width=\"delay-width\",\n",
        "          pr_mean_of_median=pr_delay,\n",
        "          pr_sigma_of_median=0.2,\n",
        "          pr_median_of_width=0.3,\n",
        "      )\n",
        "\n",
        "      # Modulate the inferred cases by a abs(sin(x)) function, to account for weekend effects\n",
        "      # Also adds the \"new_cases\" variable to the trace that has all model features.\n",
        "      new_cases = cov19.model.week_modulation(\n",
        "          cases=new_cases,\n",
        "          name_cases=\"new_cases\",\n",
        "          name_weekend_factor=\"weekend_factor\",\n",
        "          name_offset_modulation=\"offset_modulation\",\n",
        "          week_modulation_type=\"abs_sine\",\n",
        "          pr_mean_weekend_factor=0.3,\n",
        "          pr_sigma_weekend_factor=0.5,\n",
        "          weekend_days=(6, 7),\n",
        "      )\n",
        "\n",
        "      # Define the likelihood, uses the new_cases_obs set as model parameter\n",
        "      cov19.model.student_t_likelihood(new_cases)"
      ],
      "execution_count": 231,
      "outputs": []
    },
    {
      "cell_type": "markdown",
      "metadata": {
        "id": "5V4Oi8moa_Dt",
        "colab_type": "text"
      },
      "source": [
        "\n",
        "## Data retrieval \n",
        "\n",
        "> Task a -c\n",
        "\n",
        "- Download the COVID19 case data for your assigned country\n",
        "\n",
        "- Pre-process the downloaded data such that the starting date of the data is when the number of covid19 cases in your country reaches 100 and dominated by a community transmission.\n",
        "\n",
        "- It is unlikely but, if there are dates that have NaN values, perform linear regression to fill these missing values. Make sure the final data has a continuous date - ensure no date is missing. Zero number of cases for a given date is ok.\n",
        "\n"
      ]
    },
    {
      "cell_type": "markdown",
      "metadata": {
        "id": "3sHfgXxOLqFr",
        "colab_type": "text"
      },
      "source": [
        "> Use John Hopkins Database"
      ]
    },
    {
      "cell_type": "code",
      "metadata": {
        "id": "wMUxa0F4bXY0",
        "colab_type": "code",
        "colab": {
          "base_uri": "https://localhost:8080/",
          "height": 35
        },
        "outputId": "efbe818f-9bd1-41f1-ec32-db22024133e7"
      },
      "source": [
        "jhu = cov19.data_retrieval.JHU()  # It is important to download the dataset!\n",
        "jhu.download_all_available_data()\n",
        "# One could also parse True to the constructor of the class to force an auto download"
      ],
      "execution_count": null,
      "outputs": [
        {
          "output_type": "stream",
          "text": [
            "INFO     [covid19_inference.data_retrieval._JHU] Successfully loaded data from local\n"
          ],
          "name": "stderr"
        }
      ]
    },
    {
      "cell_type": "markdown",
      "metadata": {
        "id": "tMHDX_wy3eYP",
        "colab_type": "text"
      },
      "source": [
        "### Get total confirmed case for Ghana and its new cases\n",
        "> Ghana recorded its first covid case on 14th of March\n"
      ]
    },
    {
      "cell_type": "code",
      "metadata": {
        "id": "XCUYG9lYSd-k",
        "colab_type": "code",
        "colab": {}
      },
      "source": [
        "bd = datetime.datetime(2020, 3, 14)  # first covid case\n",
        "ed = datetime.datetime.now() # data ends today"
      ],
      "execution_count": null,
      "outputs": []
    },
    {
      "cell_type": "code",
      "metadata": {
        "id": "dRdzTrGllXUq",
        "colab_type": "code",
        "colab": {}
      },
      "source": [
        "total_cases_obs = jhu.get_total(\n",
        "    value=\"confirmed\", country=\"Ghana\", data_begin=bd, data_end=ed\n",
        ")\n",
        "new_cases_obs = jhu.get_new(\n",
        "    value=\"confirmed\", country=\"Ghana\", data_begin=bd, data_end=ed\n",
        ")"
      ],
      "execution_count": null,
      "outputs": []
    },
    {
      "cell_type": "code",
      "metadata": {
        "id": "qtCI7dp7lkA9",
        "colab_type": "code",
        "colab": {
          "base_uri": "https://localhost:8080/",
          "height": 256
        },
        "outputId": "c01f0a89-4fc3-4b45-8b77-162edf284e9a"
      },
      "source": [
        "total_cases_obs"
      ],
      "execution_count": null,
      "outputs": [
        {
          "output_type": "execute_result",
          "data": {
            "text/plain": [
              "date\n",
              "2020-03-14        3\n",
              "2020-03-15        6\n",
              "2020-03-16        6\n",
              "2020-03-17        7\n",
              "2020-03-18        7\n",
              "              ...  \n",
              "2020-08-04    37812\n",
              "2020-08-05    39075\n",
              "2020-08-06    39642\n",
              "2020-08-07    40097\n",
              "2020-08-08    40533\n",
              "Name: confirmed, Length: 148, dtype: int64"
            ]
          },
          "metadata": {
            "tags": []
          },
          "execution_count": 187
        }
      ]
    },
    {
      "cell_type": "code",
      "metadata": {
        "id": "DqTRzEXKSYQI",
        "colab_type": "code",
        "colab": {
          "base_uri": "https://localhost:8080/",
          "height": 416
        },
        "outputId": "4767f237-2e01-4424-8dae-7a4f93a0972c"
      },
      "source": [
        "total_cases_obs.plot(figsize=(8,6))\n",
        "plt.title('Total (Cummulative) Cases Observed')\n",
        "plt.savefig(fname='/content/visuals/totalCases_cumm.png', format='png')"
      ],
      "execution_count": null,
      "outputs": [
        {
          "output_type": "display_data",
          "data": {
            "image/png": "[encoded data removed]",
            "text/plain": [
              "<Figure size 576x432 with 1 Axes>"
            ]
          },
          "metadata": {
            "tags": [],
            "needs_background": "light"
          }
        }
      ]
    },
    {
      "cell_type": "code",
      "metadata": {
        "id": "pmKulQW9lnLZ",
        "colab_type": "code",
        "colab": {
          "base_uri": "https://localhost:8080/",
          "height": 256
        },
        "outputId": "1d7c918f-da8b-4d93-e81c-8f15df47e961"
      },
      "source": [
        "new_cases_obs"
      ],
      "execution_count": null,
      "outputs": [
        {
          "output_type": "execute_result",
          "data": {
            "text/plain": [
              "date\n",
              "2020-03-14       3\n",
              "2020-03-15       3\n",
              "2020-03-16       0\n",
              "2020-03-17       1\n",
              "2020-03-18       0\n",
              "              ... \n",
              "2020-08-04       0\n",
              "2020-08-05    1263\n",
              "2020-08-06     567\n",
              "2020-08-07     455\n",
              "2020-08-08     436\n",
              "Name: confirmed, Length: 148, dtype: int64"
            ]
          },
          "metadata": {
            "tags": []
          },
          "execution_count": 189
        }
      ]
    },
    {
      "cell_type": "code",
      "metadata": {
        "id": "8ShOq-wvTKT2",
        "colab_type": "code",
        "colab": {
          "base_uri": "https://localhost:8080/",
          "height": 416
        },
        "outputId": "f59ff670-cbba-4b7a-bbde-0218b539ad7d"
      },
      "source": [
        "new_cases_obs.plot(figsize=(8,6))\n",
        "plt.title('New Cases (Daily) Observed')\n",
        "plt.savefig(fname='/content/visuals/newCases_daily.png', format='png')"
      ],
      "execution_count": null,
      "outputs": [
        {
          "output_type": "display_data",
          "data": {
            "image/png": "[encoded data removed]",
            "text/plain": [
              "<Figure size 576x432 with 1 Axes>"
            ]
          },
          "metadata": {
            "tags": [],
            "needs_background": "light"
          }
        }
      ]
    },
    {
      "cell_type": "markdown",
      "metadata": {
        "id": "WDBZRLcUPF-g",
        "colab_type": "text"
      },
      "source": [
        "# Preprocessing and Modelling \n",
        "> Task d - f\n",
        "- Split the data into one part used for inference (training set), and an other used for to validate a forecast (validation set):\n",
        "- - Training set includes all dates from the time the community transmission reaches 100 to July 25 2020.\n",
        "- - Validation set includes dates from 25 July 2020 to one final date in the covid19 cases data.  \n",
        "- Plot the training data together with the model that is sampled from the posterior of the SIR model. The posterior of the SIR model means distributions on the Lambda, Mu, and other parameters. A single model curve means a single sample from the posterior distribution.\n",
        "- Use the validation data set to evaluate the forecasting power of the model you generated using the training set. If you are happy with your model, you can run it to make predictions until the 10th of August.\n"
      ]
    },
    {
      "cell_type": "code",
      "metadata": {
        "id": "MYzMzcr9mBEI",
        "colab_type": "code",
        "colab": {}
      },
      "source": [
        "train_set = new_cases_obs[new_cases_obs.index <= '2020-07-25']\n",
        "val_set = total_cases_obs[total_cases_obs.index >= '2020-07-25']\n",
        "#new_cases_obs = new_cases_obs[new_cases_obs.index <= '2020-07-25']"
      ],
      "execution_count": null,
      "outputs": []
    },
    {
      "cell_type": "code",
      "metadata": {
        "id": "pgkprrj6b3oa",
        "colab_type": "code",
        "colab": {
          "base_uri": "https://localhost:8080/",
          "height": 274
        },
        "outputId": "72287001-70d0-4771-fce7-69a3e0ad5196"
      },
      "source": [
        "# #cummulative record\n",
        "# ghana_cumm_record = jhu.get_total_confirmed_deaths_recovered(country='Ghana', begin_date= bd, end_date=ed)\n",
        "print(\"Date Has empty row: \",f'{train_set.index.isnull().any()}')\n",
        "train_set"
      ],
      "execution_count": null,
      "outputs": [
        {
          "output_type": "stream",
          "text": [
            "Date Has empty row:  False\n"
          ],
          "name": "stdout"
        },
        {
          "output_type": "execute_result",
          "data": {
            "text/plain": [
              "date\n",
              "2020-03-14       3\n",
              "2020-03-15       3\n",
              "2020-03-16       0\n",
              "2020-03-17       1\n",
              "2020-03-18       0\n",
              "              ... \n",
              "2020-07-21     559\n",
              "2020-07-22     683\n",
              "2020-07-23       0\n",
              "2020-07-24    1385\n",
              "2020-07-25     794\n",
              "Name: confirmed, Length: 134, dtype: int64"
            ]
          },
          "metadata": {
            "tags": []
          },
          "execution_count": 192
        }
      ]
    },
    {
      "cell_type": "code",
      "metadata": {
        "id": "RC8SBkvgTQhm",
        "colab_type": "code",
        "colab": {
          "base_uri": "https://localhost:8080/",
          "height": 416
        },
        "outputId": "6bd6dca9-79dd-426e-dc8d-2f864fc19697"
      },
      "source": [
        "train_set.plot(figsize=(8,6))\n",
        "plt.title('Train Data')\n",
        "plt.savefig(fname='/content/visuals/train_data_daily.png', format='png')"
      ],
      "execution_count": null,
      "outputs": [
        {
          "output_type": "display_data",
          "data": {
            "image/png": "[encoded data removed]",
            "text/plain": [
              "<Figure size 576x432 with 1 Axes>"
            ]
          },
          "metadata": {
            "tags": [],
            "needs_background": "light"
          }
        }
      ]
    },
    {
      "cell_type": "code",
      "metadata": {
        "id": "_GYpHoujNAyb",
        "colab_type": "code",
        "colab": {
          "base_uri": "https://localhost:8080/",
          "height": 348
        },
        "outputId": "0a3916d5-6672-4af2-f48c-24ea14afbee2"
      },
      "source": [
        "print(\"Date Has empty row: \",f'{val_set.index.isnull().any()}')\n",
        "val_set"
      ],
      "execution_count": null,
      "outputs": [
        {
          "output_type": "stream",
          "text": [
            "Date Has empty row:  False\n"
          ],
          "name": "stdout"
        },
        {
          "output_type": "execute_result",
          "data": {
            "text/plain": [
              "date\n",
              "2020-07-25    31851\n",
              "2020-07-26    32969\n",
              "2020-07-27    33624\n",
              "2020-07-28    34406\n",
              "2020-07-29    35142\n",
              "2020-07-30    35142\n",
              "2020-07-31    35501\n",
              "2020-08-01    37014\n",
              "2020-08-02    37014\n",
              "2020-08-03    37812\n",
              "2020-08-04    37812\n",
              "2020-08-05    39075\n",
              "2020-08-06    39642\n",
              "2020-08-07    40097\n",
              "2020-08-08    40533\n",
              "Name: confirmed, dtype: int64"
            ]
          },
          "metadata": {
            "tags": []
          },
          "execution_count": 194
        }
      ]
    },
    {
      "cell_type": "code",
      "metadata": {
        "id": "NTe_pHT7T1dW",
        "colab_type": "code",
        "colab": {
          "base_uri": "https://localhost:8080/",
          "height": 427
        },
        "outputId": "3abef2f6-924d-491c-b82d-b23d3478e1ef"
      },
      "source": [
        "val_set.plot(figsize=(8,6))\n",
        "plt.title('Validation Data  Observed')\n",
        "plt.savefig(fname='/content/visuals/val_data_cumm.png', format='png')"
      ],
      "execution_count": null,
      "outputs": [
        {
          "output_type": "display_data",
          "data": {
            "image/png": "[encoded data removed]",
            "text/plain": [
              "<Figure size 576x432 with 1 Axes>"
            ]
          },
          "metadata": {
            "tags": [],
            "needs_background": "light"
          }
        }
      ]
    },
    {
      "cell_type": "markdown",
      "metadata": {
        "id": "TCyi_OI7TNCK",
        "colab_type": "text"
      },
      "source": [
        "### Model training and Plotting (before identifying changepoints from the model output)\n",
        "\n",
        "> Prior parameters and Prior Changepoints\n",
        "\n",
        "- pr_delay = 3\n",
        "\n",
        "- population = 31072940\n",
        "\n",
        "- Changepoints \n",
        "\n",
        " `I will start with  just one changepoint here -date when government initiated a partial lockdown policy` \n",
        "\n",
        " `Subsequent models would be built on more than one changepoint`  \n",
        "\n",
        "March 30th\n",
        "\n",
        "> I used this date as prior becuase I believe there should be significant changepoint arounf this policy date. But I will test my prior with the posteriors of my model.\n",
        "\n",
        "\n",
        "<!-- > I will compare my model output with validation set to see if there was significant change in the number of cases when the partial lockdown was introduced  -->\n",
        "<!-- \n",
        "`I used these dates as prior becuase I believe there should be significant changepoints arounf these policy dates. But I will test my priors with the posteriors of my model. Note these dates are two days ahead the original dates to accomodate for the delay in effects of changepoints`  -->\n",
        "\n",
        "<!-- > 1. 2020, 3, 30 - partial lockdown\n",
        "2. 2020, 06,  15- ban on major gatherings\n",
        "3. 2020, 07, 26 - restriction on travel -->"
      ]
    },
    {
      "cell_type": "markdown",
      "metadata": {
        "id": "ghNM2b-gQ-Df",
        "colab_type": "text"
      },
      "source": [
        "1. diff_data_sim - simulation of data should start ten days earlier before the start date of data\n",
        "\n",
        "2. num_days_forcast - number of days to forecast after the end date of data"
      ]
    },
    {
      "cell_type": "code",
      "metadata": {
        "id": "fTd0eueWa_Ea",
        "colab_type": "code",
        "colab": {}
      },
      "source": [
        "diff_data_sim = 10  # should be significantly larger than the expected delay, in\n",
        "# order to always fit the same number of data points.\n",
        "num_days_forecast = 10"
      ],
      "execution_count": null,
      "outputs": []
    },
    {
      "cell_type": "code",
      "metadata": {
        "id": "3gyA1t4Ja_Ek",
        "colab_type": "code",
        "colab": {}
      },
      "source": [
        "# We set the priors for the changepoints here\n",
        "prior_date_mild_dist_begin = datetime.datetime(2020, 3, 30)\n",
        "#prior_date_strong_dist_begin = datetime.datetime(2020, 6, 15)\n",
        "#prior_date_contact_ban_begin = datetime.datetime(2020, 7, 26)"
      ],
      "execution_count": null,
      "outputs": []
    },
    {
      "cell_type": "markdown",
      "metadata": {
        "id": "WhlZQO7xfNgz",
        "colab_type": "text"
      },
      "source": [
        "> model 1 changepoint\n"
      ]
    },
    {
      "cell_type": "code",
      "metadata": {
        "id": "8rsyB8TGa_Eu",
        "colab_type": "code",
        "colab": {}
      },
      "source": [
        "change_points = [\n",
        "    dict(\n",
        "        pr_mean_date_transient=prior_date_mild_dist_begin,\n",
        "        pr_sigma_date_transient=3,\n",
        "        pr_median_lambda=0.2,\n",
        "        pr_sigma_lambda=1\n",
        "    )\n",
        "    # ),\n",
        "    # dict(\n",
        "    #     pr_mean_date_transient=prior_date_strong_dist_begin,\n",
        "    #     pr_sigma_date_transient=1.5,\n",
        "    #     pr_median_lambda=1 / 8,\n",
        "    #     pr_sigma_lambda=1,\n",
        "    # ),\n",
        "    # dict(\n",
        "    #     pr_mean_date_transient=prior_date_contact_ban_begin,\n",
        "    #     pr_sigma_date_transient=1.5,\n",
        "    #     pr_median_lambda=1 / 8 / 2,\n",
        "    #     pr_sigma_lambda=1,\n",
        "    # ),\n",
        "]"
      ],
      "execution_count": null,
      "outputs": []
    },
    {
      "cell_type": "markdown",
      "metadata": {
        "id": "kdW1vk6Fa_E4",
        "colab_type": "text"
      },
      "source": [
        "\n",
        "\n",
        "Next, we create the model! There are default values for most of the function arguments,\n",
        "but we will try to explicitly set all kwargs for the sake of this example.\n"
      ]
    },
    {
      "cell_type": "code",
      "metadata": {
        "id": "-zQajue6a_E6",
        "colab_type": "code",
        "colab": {}
      },
      "source": [
        "params_model = dict(\n",
        "    new_cases_obs=new_cases_obs,\n",
        "    data_begin=bd,\n",
        "    fcast_len=num_days_forecast,\n",
        "    diff_data_sim=diff_data_sim,\n",
        "    N_population=31072940,\n",
        "    name='Model1_SER',\n",
        ")\n",
        "# Median of the prior for the delay in case reporting, we assume 3 days\n",
        "pr_delay = 3"
      ],
      "execution_count": null,
      "outputs": []
    },
    {
      "cell_type": "markdown",
      "metadata": {
        "id": "Ge4wQYlKa_FF",
        "colab_type": "text"
      },
      "source": [
        "\n",
        "\n",
        "The model is specified in a context. Each function in this context\n",
        "has access to the model parameters set.\n"
      ]
    },
    {
      "cell_type": "code",
      "metadata": {
        "id": "x7pkSIpra_FH",
        "colab_type": "code",
        "colab": {
          "base_uri": "https://localhost:8080/",
          "height": 182
        },
        "outputId": "d293d5bf-c005-41a2-ed84-b7a176fdc679"
      },
      "source": [
        ""
      ],
      "execution_count": null,
      "outputs": [
        {
          "output_type": "stream",
          "text": [
            "INFO     [covid19_inference.model.spreading_rate] Lambda_t with sigmoids\n",
            "INFO     [covid19_inference.model.model] pr_median_transient_len was set to default value 4\n",
            "INFO     [covid19_inference.model.model] pr_sigma_transient_len was set to default value 0.5\n",
            "INFO     [covid19_inference.model.model] relative_to_previous was set to default value False\n",
            "INFO     [covid19_inference.model.model] pr_factor_to_previous was set to default value 1\n",
            "INFO     [covid19_inference.model.compartmental_models] Uncorrelated prior_I\n",
            "INFO     [covid19_inference.model.compartmental_models] SIR\n",
            "INFO     [covid19_inference.model.delay] Delaying cases\n",
            "INFO     [covid19_inference.model.week_modulation] Week modulation\n"
          ],
          "name": "stderr"
        }
      ]
    },
    {
      "cell_type": "markdown",
      "metadata": {
        "id": "31NlwA3La_FT",
        "colab_type": "text"
      },
      "source": [
        "\n",
        "## MCMC sampling\n",
        "\n",
        "After the model is built, it is sampled using an MCMC sampler.\n",
        "The number of parallel runs can be set with the argument `cores=`.\n",
        "In particular, due to a bug in Theano, Windows users should set `cores=1`.\n",
        "The sampling can take a long time.\n"
      ]
    },
    {
      "cell_type": "code",
      "metadata": {
        "id": "D0-jA2fba_FW",
        "colab_type": "code",
        "colab": {}
      },
      "source": [
        "model1 =  pm.sample(model=this_model, cores=4, tune=50, draws=100, init=\"advi+adapt_diag\")"
      ],
      "execution_count": null,
      "outputs": []
    },
    {
      "cell_type": "markdown",
      "metadata": {
        "id": "LZJz94qz5hdg",
        "colab_type": "text"
      },
      "source": [
        "Save Model"
      ]
    },
    {
      "cell_type": "code",
      "metadata": {
        "id": "ahob-RP-5hBe",
        "colab_type": "code",
        "colab": {}
      },
      "source": [
        "#save model1\n",
        "save_load_modelTrace(\"wb\", model1, modelTrace_name=\"model1.pickle\")\n",
        "#load model1\n",
        "model1=save_load_modelTrace(\"rb\", model1, modelTrace_name=\"model1.pickle\")"
      ],
      "execution_count": null,
      "outputs": []
    },
    {
      "cell_type": "markdown",
      "metadata": {
        "id": "N_1C1DOGgX14",
        "colab_type": "text"
      },
      "source": [
        "### Plot Timeseries for model1 (one changepoint) and compare performance with validation set"
      ]
    },
    {
      "cell_type": "code",
      "metadata": {
        "id": "kAiwkgKegWFk",
        "colab_type": "code",
        "colab": {}
      },
      "source": [
        ""
      ],
      "execution_count": null,
      "outputs": []
    },
    {
      "cell_type": "markdown",
      "metadata": {
        "id": "PyNYu2tagqyW",
        "colab_type": "text"
      },
      "source": [
        ""
      ]
    },
    {
      "cell_type": "markdown",
      "metadata": {
        "id": "W39qquiQgqoB",
        "colab_type": "text"
      },
      "source": [
        ""
      ]
    },
    {
      "cell_type": "markdown",
      "metadata": {
        "id": "GmvC3JGJgqZD",
        "colab_type": "text"
      },
      "source": [
        ""
      ]
    },
    {
      "cell_type": "markdown",
      "metadata": {
        "id": "TY2iq3-0a_Ff",
        "colab_type": "text"
      },
      "source": [
        "\n",
        "## Plotting\n",
        "Plotting tools are rudimentary right now. But one can always write custom plotting function\n",
        "by accessing the samples stored in the trace.\n",
        "\n",
        "### Distributions\n"
      ]
    },
    {
      "cell_type": "code",
      "metadata": {
        "scrolled": true,
        "id": "mj23HiF4a_Fh",
        "colab_type": "code",
        "colab": {}
      },
      "source": [
        ""
      ],
      "execution_count": null,
      "outputs": []
    },
    {
      "cell_type": "markdown",
      "metadata": {
        "id": "EcQ8kJPAa_GU",
        "colab_type": "text"
      },
      "source": [
        "\n",
        "### Timeseries\n",
        "timeseries overview, for now needs an offset variable to get cumulative cases\n"
      ]
    },
    {
      "cell_type": "code",
      "metadata": {
        "id": "uXmFQzr3a_GW",
        "colab_type": "code",
        "colab": {}
      },
      "source": [
        "fig, axes = cov19.plot.timeseries_overview(this_model, model1, save_to=\"timeseries_model1.png\",\n",
        "                                     offset=3000) # start=datetime.datetime(2020,3,30), end=datetime.datetime(2020,8,21), "
      ],
      "execution_count": null,
      "outputs": []
    },
    {
      "cell_type": "markdown",
      "metadata": {
        "id": "QztjtTWrBWpA",
        "colab_type": "text"
      },
      "source": [
        "### Validate model\n",
        "> The model predicts an exponential growth in confrimed cases till August 2nd, \n",
        "\n",
        "> We can confirm this with our validation set...\n",
        "\n",
        "> From the plot of our validation set below, there is an upward trend of confirmed cases in AUgust 2. which means our model predicts quite well. \n",
        "\n",
        "> But it can be further improved. We would increase the number of draws and tunes to imrpove the model power and extend it to predict up till August 10\n",
        "\n"
      ]
    },
    {
      "cell_type": "code",
      "metadata": {
        "id": "GIP8kZx4KlI1",
        "colab_type": "code",
        "colab": {}
      },
      "source": [
        "val_set.plot(figsize=(10,12));"
      ],
      "execution_count": null,
      "outputs": []
    },
    {
      "cell_type": "markdown",
      "metadata": {
        "id": "c0-r1osYG0G2",
        "colab_type": "text"
      },
      "source": [
        "> Plot a new model with higher tunes and draws"
      ]
    },
    {
      "cell_type": "code",
      "metadata": {
        "id": "MdXRgmoyMQxL",
        "colab_type": "code",
        "colab": {}
      },
      "source": [
        "diff_data_sim = 10  # should be significantly larger than the expected delay, in\n",
        "# order to always fit the same number of data points.\n",
        "num_days_forecast = 20"
      ],
      "execution_count": null,
      "outputs": []
    },
    {
      "cell_type": "code",
      "metadata": {
        "id": "wlTlw7hRMaKf",
        "colab_type": "code",
        "colab": {}
      },
      "source": [
        "# We set the priors for the changepoints here\n",
        "prior_date_mild_dist_begin = datetime.datetime(2020, 3, 30)\n",
        "prior_date_strong_dist_begin = datetime.datetime(2020, 6, 15)\n",
        "prior_date_contact_ban_begin = datetime.datetime(2020, 7, 26)"
      ],
      "execution_count": null,
      "outputs": []
    },
    {
      "cell_type": "code",
      "metadata": {
        "id": "ZLUGPN1gMfG_",
        "colab_type": "code",
        "colab": {}
      },
      "source": [
        "change_points = [\n",
        "    dict(\n",
        "        pr_mean_date_transient=prior_date_mild_dist_begin,\n",
        "        pr_sigma_date_transient=3,\n",
        "        pr_median_lambda=0.2,\n",
        "        pr_sigma_lambda=1,\n",
        "    ),\n",
        "    dict(\n",
        "        pr_mean_date_transient=prior_date_strong_dist_begin,\n",
        "        pr_sigma_date_transient=1.5,\n",
        "        pr_median_lambda=1 / 8,\n",
        "        pr_sigma_lambda=1,\n",
        "    ),\n",
        "    dict(\n",
        "        pr_mean_date_transient=prior_date_contact_ban_begin,\n",
        "        pr_sigma_date_transient=1.5,\n",
        "        pr_median_lambda=1 / 8 / 2,\n",
        "        pr_sigma_lambda=1,\n",
        "    ),\n",
        "]"
      ],
      "execution_count": null,
      "outputs": []
    },
    {
      "cell_type": "code",
      "metadata": {
        "id": "VRXyk48WMy7G",
        "colab_type": "code",
        "colab": {}
      },
      "source": [
        "params_model = dict(\n",
        "    new_cases_obs=new_cases_obs,\n",
        "    data_begin=bd,\n",
        "    data_end=ed,\n",
        "    sim_begin=datetime.datetime(2020,3,4)\n",
        "    sim_end=datetime.datetime(2020,8,4)\n",
        "    fcast_len=num_days_forecast,\n",
        "    diff_data_sim=diff_data_sim,\n",
        "    N_population=31072940,\n",
        "    name='Model2_SER',\n",
        "\n",
        "\n",
        ")\n",
        "# Median of the prior for the delay in case reporting, we assume 3 days\n",
        "pr_delay = 3"
      ],
      "execution_count": null,
      "outputs": []
    },
    {
      "cell_type": "code",
      "metadata": {
        "id": "g-nmLO5sAfk1",
        "colab_type": "code",
        "colab": {}
      },
      "source": [
        "\n",
        "\n",
        "model2 =  pm.sample(model=this_model, cores=4, tune=150, draws=200, init=\"advi+adapt_diag\")"
      ],
      "execution_count": null,
      "outputs": []
    },
    {
      "cell_type": "code",
      "metadata": {
        "id": "pshHVBY4dy48",
        "colab_type": "code",
        "colab": {}
      },
      "source": [
        ""
      ],
      "execution_count": null,
      "outputs": []
    }
  ]
}